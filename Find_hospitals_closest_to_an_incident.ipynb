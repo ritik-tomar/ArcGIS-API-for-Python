{
  "nbformat": 4,
  "nbformat_minor": 0,
  "metadata": {
    "esriNotebookRuntime": {
      "notebookRuntimeName": "ArcGIS Notebook Python 3 Standard",
      "notebookRuntimeVersion": "5.0"
    },
    "kernelspec": {
      "display_name": "Python 3",
      "language": "python",
      "name": "python3"
    },
    "language_info": {
      "codemirror_mode": {
        "name": "ipython",
        "version": 3
      },
      "file_extension": ".py",
      "mimetype": "text/x-python",
      "name": "python",
      "nbconvert_exporter": "python",
      "pygments_lexer": "ipython3",
      "version": "3.7.9"
    },
    "colab": {
      "name": "Find_hospitals_closest_to_an_incident.ipynb",
      "provenance": []
    }
  },
  "cells": [
    {
      "cell_type": "markdown",
      "metadata": {
        "id": "oNU9Uf0ZR4hY"
      },
      "source": [
        "The network module of the ArcGIS API for Python can be used to solve different types of network analysis operations. In this sample, we see how to find the hospital that is closest to an incident.\n",
        "\n",
        "#**Closest facility**\n",
        "The closest facility solver provides functionality for finding out the closest locations to a particular input point. This solver would be useful in cases when you have an incident and need to find the closest facility or need to get information on the travel time and the distance to each of the facilities from an incident point for reporting purposes."
      ]
    },
    {
      "cell_type": "markdown",
      "metadata": {
        "id": "1xu4byKsR-oD"
      },
      "source": [
        "When finding closest facilities, you can specify how many to find and whether the direction of travel is toward or away from them. The closest facility solver displays the best routes between incidents and facilities, reports their travel costs, and returns driving directions.\n",
        "\n",
        "#**Connect to your GIS**\n",
        "As a first step, you would need to establish a connection to your organization which could be an ArcGIS Online organization or an ArcGIS Enterprise."
      ]
    },
    {
      "cell_type": "code",
      "metadata": {
        "id": "g7kfOT7YRuXS"
      },
      "source": [
        "from IPython.display import HTML\n",
        "import pandas as pd\n",
        "from arcgis.gis import GIS\n",
        "\n",
        "#connect to your GIS\n",
        "my_gis = GIS('home')"
      ],
      "execution_count": null,
      "outputs": []
    },
    {
      "cell_type": "markdown",
      "metadata": {
        "id": "ALMzswdVSEyo"
      },
      "source": [
        "#**Create a Network Layer**\n",
        "To perform any network analysis (such as finding the closest facility, the best route between multiple stops, or service area around a facility), you would need to create a NetworkLayer object. In this sample, since we are solving for closest facilities, we need to create a ClosestFacilityLayer which is a type of NetworkLayer.\n",
        "\n",
        "To create any NetworkLayer object, you would need to provide the URL to the appropriate network analysis service. Hence, in this sample, we provide a ClosestFacility URL to create a ClosestFacilityLayer object.\n",
        "\n",
        "Since all ArcGIS Online organizations already have access to those routing services, you can access this URL through the GIS object's helperServices property. If you have your own ArcGIS Server based map service with network analysis capability enabled, you would need to provide the URL for this service.\n",
        "\n",
        "Let us start by importing the network module"
      ]
    },
    {
      "cell_type": "code",
      "metadata": {
        "id": "8LQ93NX1RuXW"
      },
      "source": [
        "import arcgis.network as network"
      ],
      "execution_count": null,
      "outputs": []
    },
    {
      "cell_type": "markdown",
      "metadata": {
        "id": "ruGcd9LkSIyQ"
      },
      "source": [
        "\n",
        "Access the analysis URL from the GIS object"
      ]
    },
    {
      "cell_type": "code",
      "metadata": {
        "id": "Ur94CCVTRuXX",
        "outputId": "61a95709-f157-4df4-80c1-7868d4ac6c4c"
      },
      "source": [
        "analysis_url = my_gis.properties.helperServices.closestFacility.url\n",
        "analysis_url"
      ],
      "execution_count": null,
      "outputs": [
        {
          "output_type": "execute_result",
          "data": {
            "text/plain": [
              "'https://route.arcgis.com/arcgis/rest/services/World/ClosestFacility/NAServer/ClosestFacility_World'"
            ]
          },
          "metadata": {
            "tags": []
          },
          "execution_count": 3
        }
      ]
    },
    {
      "cell_type": "markdown",
      "metadata": {
        "id": "OJOR4SN0SLYD"
      },
      "source": [
        "Create a ClosestFacilityLayer object using this URL"
      ]
    },
    {
      "cell_type": "code",
      "metadata": {
        "id": "RpLZ2OJxRuXZ"
      },
      "source": [
        "cf_layer = network.ClosestFacilityLayer(analysis_url, gis=my_gis)"
      ],
      "execution_count": null,
      "outputs": []
    },
    {
      "cell_type": "markdown",
      "metadata": {
        "id": "un-vZT_USNft"
      },
      "source": [
        "\n",
        "#**Create hospitals layer**\n",
        "In this sample, we will be looking for the closest hospital (facility) to an incident location. Even though we are interested in finding out the closest one, it would still be helpful to get the information on the distance and travel time to all of them for reference purposes.\n",
        "\n",
        "In the code below, we need to geocode the hospitals' addresses as well as do the reverse geocode for the incident location which has been supplied in the latitude/longitude format.\n",
        "\n",
        "To perform the geocode operations, we import the geocoding module of the ArcGIS API."
      ]
    },
    {
      "cell_type": "code",
      "metadata": {
        "id": "F58yHOAFRuXZ"
      },
      "source": [
        "from arcgis import geocoding"
      ],
      "execution_count": null,
      "outputs": []
    },
    {
      "cell_type": "markdown",
      "metadata": {
        "id": "B80DyBdGSbXI"
      },
      "source": [
        "\n",
        "In this sample, we geocode addresses of hospitals to create the facility layer. In your workflows, this could any feature layer. Create a list of hospitals in Rio de Janeiro, Brazil."
      ]
    },
    {
      "cell_type": "code",
      "metadata": {
        "id": "6nrL1dPORuXa"
      },
      "source": [
        "hospitals_addresses = ['Estrada Adhemar Bebiano, 339 Del Castilho, Rio de Janeiro RJ, 21051-370, Brazil',\n",
        "                       'R. José dos Reis Engenho de Dentro, Rio de Janeiro RJ, 20750-000, Brazil',\n",
        "                       'R. Dezessete, s/n Maré, Rio de Janeiro RJ, 21042-010, Brazil',\n",
        "                       'Rua Dr. Miguel Vieira Ferreira, 266 Ramos, Rio de Janeiro RJ, Brazil']"
      ],
      "execution_count": null,
      "outputs": []
    },
    {
      "cell_type": "markdown",
      "metadata": {
        "id": "HSsuyziKSRNv"
      },
      "source": [
        "\n",
        "Loop through each address and geocode it. The geocode operation returns a list of matches for each address. We pick the first result and extract the coordinates from it and construct a Feature object out of it. Then we combine all the Features representing the hospitals into a FeatureSet object."
      ]
    },
    {
      "cell_type": "code",
      "metadata": {
        "id": "lNzWlslBRuXa"
      },
      "source": [
        "from arcgis.features import Feature, FeatureSet"
      ],
      "execution_count": null,
      "outputs": []
    },
    {
      "cell_type": "code",
      "metadata": {
        "id": "vWHepBARRuXb"
      },
      "source": [
        "hosp_feat_list = []\n",
        "\n",
        "for address in hospitals_addresses:\n",
        "    hit = geocoding.geocode(address)[0]\n",
        "    hosp_feat = Feature(geometry=hit['location'], attributes=hit['attributes'])\n",
        "\n",
        "    hosp_feat_list.append(hosp_feat)"
      ],
      "execution_count": null,
      "outputs": []
    },
    {
      "cell_type": "markdown",
      "metadata": {
        "id": "nwHfmqppSePW"
      },
      "source": [
        "Construct a FeatureSet using each hospital Feature."
      ]
    },
    {
      "cell_type": "code",
      "metadata": {
        "id": "qQSHnJxORuXc"
      },
      "source": [
        "hospitals_fset = FeatureSet(features=hosp_feat_list, \n",
        "                            geometry_type='esriGeometryPoint', \n",
        "                            spatial_reference={'latestWkid': 4326})"
      ],
      "execution_count": null,
      "outputs": []
    },
    {
      "cell_type": "markdown",
      "metadata": {
        "id": "Z6VH1dhxSgSA"
      },
      "source": [
        "Lets draw our hospitals on a map"
      ]
    },
    {
      "cell_type": "code",
      "metadata": {
        "id": "Xyw7du5uRuXd"
      },
      "source": [
        "from IPython.display import HTML"
      ],
      "execution_count": null,
      "outputs": []
    },
    {
      "cell_type": "code",
      "metadata": {
        "colab": {
          "referenced_widgets": [
            "b3ebdd4b1d84481da43eb8149da829ad"
          ]
        },
        "id": "12_gy4GLRuXe",
        "outputId": "b9fff4f4-6f5b-49b8-b0b9-160a6ca40e28"
      },
      "source": [
        "map1 = my_gis.map('Rio de Janeiro, Brazil')\n",
        "map1"
      ],
      "execution_count": null,
      "outputs": [
        {
          "output_type": "display_data",
          "data": {
            "application/vnd.jupyter.widget-view+json": {
              "model_id": "b3ebdd4b1d84481da43eb8149da829ad",
              "version_major": 2,
              "version_minor": 0
            },
            "text/plain": [
              "MapView(layout=Layout(height='400px', width='100%'))"
            ]
          },
          "metadata": {
            "tags": []
          }
        },
        {
          "output_type": "display_data",
          "data": {
            "text/html": [
              "<div class=\"map-static-img-preview-a777ba45-8a78-4d0f-b6f2-fc97822a9a59\"><img src=\"\"></img></div>"
            ],
            "text/plain": [
              "<IPython.core.display.HTML object>"
            ]
          },
          "metadata": {
            "tags": []
          }
        },
        {
          "output_type": "display_data",
          "data": {
            "text/html": [
              "<div class=\"map-html-embed-preview-a777ba45-8a78-4d0f-b6f2-fc97822a9a59\"></div>"
            ],
            "text/plain": [
              "<IPython.core.display.HTML object>"
            ]
          },
          "metadata": {
            "tags": []
          }
        }
      ]
    },
    {
      "cell_type": "code",
      "metadata": {
        "id": "1jd2ZL4TRuXe"
      },
      "source": [
        "map1.draw(hospitals_fset, symbol={\"type\": \"esriSMS\",\"style\": \"esriSMSSquare\",\n",
        "                                  \"color\": [76,115,0,255],\"size\": 8,})"
      ],
      "execution_count": null,
      "outputs": []
    },
    {
      "cell_type": "markdown",
      "metadata": {
        "id": "vvSwBflcSkVp"
      },
      "source": [
        "#**Create incidents layer**\n",
        "Similarly, let us create the incient layer"
      ]
    },
    {
      "cell_type": "code",
      "metadata": {
        "id": "qTQ7OBmpRuXf"
      },
      "source": [
        "incident_coords = '-43.281206,-22.865676'\n",
        "reverse_geocode = geocoding.reverse_geocode({\"x\": incident_coords.split(',')[0], \n",
        "                                              \"y\": incident_coords.split(',')[1]})\n",
        "\n",
        "incident_feature = Feature(geometry=reverse_geocode['location'], \n",
        "                           attributes=reverse_geocode['address'])"
      ],
      "execution_count": null,
      "outputs": []
    },
    {
      "cell_type": "code",
      "metadata": {
        "id": "q-TeOBnDRuXf"
      },
      "source": [
        "incident_fset = FeatureSet([incident_feature], geometry_type='esriGeometryPoint',\n",
        "                          spatial_reference={'latestWkid': 4326})"
      ],
      "execution_count": null,
      "outputs": []
    },
    {
      "cell_type": "markdown",
      "metadata": {
        "id": "FCfo2ZkTSokg"
      },
      "source": [
        "\n",
        "Let us add the incident to the map"
      ]
    },
    {
      "cell_type": "code",
      "metadata": {
        "id": "4Bp8ZMreRuXf"
      },
      "source": [
        "map1.draw(incident_fset, symbol={\"type\": \"esriSMS\",\"style\": \"esriSMSCircle\",\"size\": 8})"
      ],
      "execution_count": null,
      "outputs": []
    },
    {
      "cell_type": "markdown",
      "metadata": {
        "id": "-dPPww-OSrXB"
      },
      "source": [
        "#**Solve for closest hospital**\n",
        "By default the closest facility service would return only the closest location, so we need to specify explicitly the default_target_facility_count parameter as well as return_facilities."
      ]
    },
    {
      "cell_type": "code",
      "metadata": {
        "id": "7aBVTqxORuXg"
      },
      "source": [
        "result = cf_layer.solve_closest_facility(incidents=incident_fset,\n",
        "                                        facilities=hospitals_fset,\n",
        "                                        default_target_facility_count=4,\n",
        "                                        return_facilities=True,\n",
        "                                        impedance_attribute_name='TravelTime',\n",
        "                                        accumulate_attribute_names=['Kilometers','TravelTime'])"
      ],
      "execution_count": null,
      "outputs": []
    },
    {
      "cell_type": "markdown",
      "metadata": {
        "id": "1Uv03GtuSyu3"
      },
      "source": [
        "\n",
        "Let us inspect the result dictionary"
      ]
    },
    {
      "cell_type": "code",
      "metadata": {
        "id": "ZPYyAxY5RuXg",
        "outputId": "37a922f1-adf2-4695-b596-1a0b81f9e9f9"
      },
      "source": [
        "result.keys()"
      ],
      "execution_count": null,
      "outputs": [
        {
          "output_type": "execute_result",
          "data": {
            "text/plain": [
              "dict_keys(['messages', 'routes', 'facilities'])"
            ]
          },
          "metadata": {
            "tags": []
          },
          "execution_count": 17
        }
      ]
    },
    {
      "cell_type": "markdown",
      "metadata": {
        "id": "3gFMyVkMS1kI"
      },
      "source": [
        "Let us use the routes dictionary to construct line features out of the routes to display on the map"
      ]
    },
    {
      "cell_type": "code",
      "metadata": {
        "id": "wWB7u4T6RuXg",
        "outputId": "c893f1af-0710-4ca4-daff-4e79271f20a7"
      },
      "source": [
        "result['routes'].keys()"
      ],
      "execution_count": null,
      "outputs": [
        {
          "output_type": "execute_result",
          "data": {
            "text/plain": [
              "dict_keys(['fieldAliases', 'geometryType', 'spatialReference', 'features'])"
            ]
          },
          "metadata": {
            "tags": []
          },
          "execution_count": 18
        }
      ]
    },
    {
      "cell_type": "code",
      "metadata": {
        "id": "j1iQ7zmnRuXg",
        "outputId": "acedc618-2397-4fbd-896a-5aa27b6e59ad"
      },
      "source": [
        "result['routes']['features'][0].keys()"
      ],
      "execution_count": null,
      "outputs": [
        {
          "output_type": "execute_result",
          "data": {
            "text/plain": [
              "dict_keys(['attributes', 'geometry'])"
            ]
          },
          "metadata": {
            "tags": []
          },
          "execution_count": 19
        }
      ]
    },
    {
      "cell_type": "markdown",
      "metadata": {
        "id": "_AdYW1xxS4bd"
      },
      "source": [
        "Construct line features out of the routes that are returned."
      ]
    },
    {
      "cell_type": "code",
      "metadata": {
        "id": "mEH_3g7KRuXh"
      },
      "source": [
        "line_feat_list = []\n",
        "for line_dict in result['routes']['features']:\n",
        "    f1 = Feature(line_dict['geometry'], line_dict['attributes'])\n",
        "    line_feat_list.append(f1)"
      ],
      "execution_count": null,
      "outputs": []
    },
    {
      "cell_type": "code",
      "metadata": {
        "id": "UPf5LH1gRuXh"
      },
      "source": [
        "routes_fset = FeatureSet(line_feat_list, \n",
        "                         geometry_type=result['routes']['geometryType'],\n",
        "                         spatial_reference= result['routes']['spatialReference'])"
      ],
      "execution_count": null,
      "outputs": []
    },
    {
      "cell_type": "markdown",
      "metadata": {
        "id": "x5O5OWZyS6x-"
      },
      "source": [
        "\n",
        "Add the routes back to the map. The route to the closest hospital is in red"
      ]
    },
    {
      "cell_type": "code",
      "metadata": {
        "id": "ORsARdP2RuXh"
      },
      "source": [
        "allocation_line_symbol_4 = {'type': 'esriSLS', 'style': 'esriSLSSolid',\n",
        "                                'color': [0,0,255,100], 'width': 6}\n",
        "map1.draw(routes_fset, symbol = allocation_line_symbol_4)"
      ],
      "execution_count": null,
      "outputs": []
    },
    {
      "cell_type": "code",
      "metadata": {
        "id": "ZT7NZIRaRuXh"
      },
      "source": [
        "map1.clear_graphics()"
      ],
      "execution_count": null,
      "outputs": []
    },
    {
      "cell_type": "markdown",
      "metadata": {
        "id": "3nG5B1tmS-Wy"
      },
      "source": [
        "#**Analyze the results in a table**\n",
        "Since we parsed the routes as a FeatureSet, we can display the attributes easily as a pandas DataFrame."
      ]
    },
    {
      "cell_type": "code",
      "metadata": {
        "id": "msxSXfmcRuXi",
        "outputId": "e201401b-5c8d-4466-fdb1-c8a4f7d0cc1f"
      },
      "source": [
        "df1 = routes_fset.sdf\n",
        "df1"
      ],
      "execution_count": null,
      "outputs": [
        {
          "output_type": "execute_result",
          "data": {
            "text/html": [
              "<div>\n",
              "<style scoped>\n",
              "    .dataframe tbody tr th:only-of-type {\n",
              "        vertical-align: middle;\n",
              "    }\n",
              "\n",
              "    .dataframe tbody tr th {\n",
              "        vertical-align: top;\n",
              "    }\n",
              "\n",
              "    .dataframe thead th {\n",
              "        text-align: right;\n",
              "    }\n",
              "</style>\n",
              "<table border=\"1\" class=\"dataframe\">\n",
              "  <thead>\n",
              "    <tr style=\"text-align: right;\">\n",
              "      <th></th>\n",
              "      <th>ObjectID</th>\n",
              "      <th>FacilityID</th>\n",
              "      <th>FacilityRank</th>\n",
              "      <th>Name</th>\n",
              "      <th>IncidentCurbApproach</th>\n",
              "      <th>FacilityCurbApproach</th>\n",
              "      <th>IncidentID</th>\n",
              "      <th>StartTime</th>\n",
              "      <th>EndTime</th>\n",
              "      <th>StartTimeUTC</th>\n",
              "      <th>...</th>\n",
              "      <th>Total_Minutes</th>\n",
              "      <th>Total_TravelTime</th>\n",
              "      <th>Total_Miles</th>\n",
              "      <th>Total_Kilometers</th>\n",
              "      <th>Total_TimeAt1KPH</th>\n",
              "      <th>Total_WalkTime</th>\n",
              "      <th>Total_TruckMinutes</th>\n",
              "      <th>Total_TruckTravelTime</th>\n",
              "      <th>Shape_Length</th>\n",
              "      <th>SHAPE</th>\n",
              "    </tr>\n",
              "  </thead>\n",
              "  <tbody>\n",
              "    <tr>\n",
              "      <th>0</th>\n",
              "      <td>1</td>\n",
              "      <td>1</td>\n",
              "      <td>1</td>\n",
              "      <td>Rua Tangapeme 133 - Location 1</td>\n",
              "      <td>1</td>\n",
              "      <td>1</td>\n",
              "      <td>1</td>\n",
              "      <td>None</td>\n",
              "      <td>None</td>\n",
              "      <td>None</td>\n",
              "      <td>...</td>\n",
              "      <td>None</td>\n",
              "      <td>5.314610</td>\n",
              "      <td>1.331829</td>\n",
              "      <td>2.143371</td>\n",
              "      <td>None</td>\n",
              "      <td>None</td>\n",
              "      <td>None</td>\n",
              "      <td>None</td>\n",
              "      <td>0.020192</td>\n",
              "      <td>{\"paths\": [[[-43.28127999999998, -22.865709999...</td>\n",
              "    </tr>\n",
              "    <tr>\n",
              "      <th>1</th>\n",
              "      <td>2</td>\n",
              "      <td>4</td>\n",
              "      <td>2</td>\n",
              "      <td>Rua Tangapeme 133 - Location 4</td>\n",
              "      <td>1</td>\n",
              "      <td>2</td>\n",
              "      <td>1</td>\n",
              "      <td>None</td>\n",
              "      <td>None</td>\n",
              "      <td>None</td>\n",
              "      <td>...</td>\n",
              "      <td>None</td>\n",
              "      <td>12.534585</td>\n",
              "      <td>3.238644</td>\n",
              "      <td>5.212092</td>\n",
              "      <td>None</td>\n",
              "      <td>None</td>\n",
              "      <td>None</td>\n",
              "      <td>None</td>\n",
              "      <td>0.048711</td>\n",
              "      <td>{\"paths\": [[[-43.28127999999998, -22.865709999...</td>\n",
              "    </tr>\n",
              "    <tr>\n",
              "      <th>2</th>\n",
              "      <td>3</td>\n",
              "      <td>2</td>\n",
              "      <td>3</td>\n",
              "      <td>Rua Tangapeme 133 - Location 2</td>\n",
              "      <td>1</td>\n",
              "      <td>2</td>\n",
              "      <td>1</td>\n",
              "      <td>None</td>\n",
              "      <td>None</td>\n",
              "      <td>None</td>\n",
              "      <td>...</td>\n",
              "      <td>None</td>\n",
              "      <td>18.599121</td>\n",
              "      <td>5.082800</td>\n",
              "      <td>8.179973</td>\n",
              "      <td>None</td>\n",
              "      <td>None</td>\n",
              "      <td>None</td>\n",
              "      <td>None</td>\n",
              "      <td>0.077232</td>\n",
              "      <td>{\"paths\": [[[-43.28127999999998, -22.865709999...</td>\n",
              "    </tr>\n",
              "    <tr>\n",
              "      <th>3</th>\n",
              "      <td>4</td>\n",
              "      <td>3</td>\n",
              "      <td>4</td>\n",
              "      <td>Rua Tangapeme 133 - Location 3</td>\n",
              "      <td>1</td>\n",
              "      <td>1</td>\n",
              "      <td>1</td>\n",
              "      <td>None</td>\n",
              "      <td>None</td>\n",
              "      <td>None</td>\n",
              "      <td>...</td>\n",
              "      <td>None</td>\n",
              "      <td>58.472556</td>\n",
              "      <td>31.339973</td>\n",
              "      <td>50.436798</td>\n",
              "      <td>None</td>\n",
              "      <td>None</td>\n",
              "      <td>None</td>\n",
              "      <td>None</td>\n",
              "      <td>0.484770</td>\n",
              "      <td>{\"paths\": [[[-43.28127999999998, -22.865709999...</td>\n",
              "    </tr>\n",
              "  </tbody>\n",
              "</table>\n",
              "<p>4 rows × 21 columns</p>\n",
              "</div>"
            ],
            "text/plain": [
              "   ObjectID  FacilityID  FacilityRank                            Name  \\\n",
              "0         1           1             1  Rua Tangapeme 133 - Location 1   \n",
              "1         2           4             2  Rua Tangapeme 133 - Location 4   \n",
              "2         3           2             3  Rua Tangapeme 133 - Location 2   \n",
              "3         4           3             4  Rua Tangapeme 133 - Location 3   \n",
              "\n",
              "   IncidentCurbApproach  FacilityCurbApproach  IncidentID StartTime EndTime  \\\n",
              "0                     1                     1           1      None    None   \n",
              "1                     1                     2           1      None    None   \n",
              "2                     1                     2           1      None    None   \n",
              "3                     1                     1           1      None    None   \n",
              "\n",
              "  StartTimeUTC  ... Total_Minutes Total_TravelTime  Total_Miles  \\\n",
              "0         None  ...          None         5.314610     1.331829   \n",
              "1         None  ...          None        12.534585     3.238644   \n",
              "2         None  ...          None        18.599121     5.082800   \n",
              "3         None  ...          None        58.472556    31.339973   \n",
              "\n",
              "   Total_Kilometers  Total_TimeAt1KPH Total_WalkTime Total_TruckMinutes  \\\n",
              "0          2.143371              None           None               None   \n",
              "1          5.212092              None           None               None   \n",
              "2          8.179973              None           None               None   \n",
              "3         50.436798              None           None               None   \n",
              "\n",
              "  Total_TruckTravelTime Shape_Length  \\\n",
              "0                  None     0.020192   \n",
              "1                  None     0.048711   \n",
              "2                  None     0.077232   \n",
              "3                  None     0.484770   \n",
              "\n",
              "                                               SHAPE  \n",
              "0  {\"paths\": [[[-43.28127999999998, -22.865709999...  \n",
              "1  {\"paths\": [[[-43.28127999999998, -22.865709999...  \n",
              "2  {\"paths\": [[[-43.28127999999998, -22.865709999...  \n",
              "3  {\"paths\": [[[-43.28127999999998, -22.865709999...  \n",
              "\n",
              "[4 rows x 21 columns]"
            ]
          },
          "metadata": {
            "tags": []
          },
          "execution_count": 24
        }
      ]
    },
    {
      "cell_type": "markdown",
      "metadata": {
        "id": "7dGhNdSgTDcV"
      },
      "source": [
        "\n",
        "Let us add the hospital addresses and incident address to this table and display only the relevant columns"
      ]
    },
    {
      "cell_type": "code",
      "metadata": {
        "id": "2xXR9UExRuXi"
      },
      "source": [
        "df1['facility_address'] = hospitals_addresses\n",
        "df1['incident_address'] = [incident_feature.attributes['Match_addr'] for i in range(len(hospitals_addresses))]"
      ],
      "execution_count": null,
      "outputs": []
    },
    {
      "cell_type": "code",
      "metadata": {
        "id": "sMRzFH6HRuXi",
        "outputId": "a02a4e8d-e1b4-47e4-9274-d1d2752f8145"
      },
      "source": [
        "df1[['facility_address','incident_address','Total_Miles','Total_TravelTime']]"
      ],
      "execution_count": null,
      "outputs": [
        {
          "output_type": "execute_result",
          "data": {
            "text/html": [
              "<div>\n",
              "<style scoped>\n",
              "    .dataframe tbody tr th:only-of-type {\n",
              "        vertical-align: middle;\n",
              "    }\n",
              "\n",
              "    .dataframe tbody tr th {\n",
              "        vertical-align: top;\n",
              "    }\n",
              "\n",
              "    .dataframe thead th {\n",
              "        text-align: right;\n",
              "    }\n",
              "</style>\n",
              "<table border=\"1\" class=\"dataframe\">\n",
              "  <thead>\n",
              "    <tr style=\"text-align: right;\">\n",
              "      <th></th>\n",
              "      <th>facility_address</th>\n",
              "      <th>incident_address</th>\n",
              "      <th>Total_Miles</th>\n",
              "      <th>Total_TravelTime</th>\n",
              "    </tr>\n",
              "  </thead>\n",
              "  <tbody>\n",
              "    <tr>\n",
              "      <th>0</th>\n",
              "      <td>Estrada Adhemar Bebiano, 339 Del Castilho, Rio...</td>\n",
              "      <td>Rua Tangapeme 133, Inhaúma, Rio de Janeiro, 20...</td>\n",
              "      <td>1.331829</td>\n",
              "      <td>5.314610</td>\n",
              "    </tr>\n",
              "    <tr>\n",
              "      <th>1</th>\n",
              "      <td>R. José dos Reis Engenho de Dentro, Rio de Jan...</td>\n",
              "      <td>Rua Tangapeme 133, Inhaúma, Rio de Janeiro, 20...</td>\n",
              "      <td>3.238644</td>\n",
              "      <td>12.534585</td>\n",
              "    </tr>\n",
              "    <tr>\n",
              "      <th>2</th>\n",
              "      <td>R. Dezessete, s/n Maré, Rio de Janeiro RJ, 210...</td>\n",
              "      <td>Rua Tangapeme 133, Inhaúma, Rio de Janeiro, 20...</td>\n",
              "      <td>5.082800</td>\n",
              "      <td>18.599121</td>\n",
              "    </tr>\n",
              "    <tr>\n",
              "      <th>3</th>\n",
              "      <td>Rua Dr. Miguel Vieira Ferreira, 266 Ramos, Rio...</td>\n",
              "      <td>Rua Tangapeme 133, Inhaúma, Rio de Janeiro, 20...</td>\n",
              "      <td>31.339973</td>\n",
              "      <td>58.472556</td>\n",
              "    </tr>\n",
              "  </tbody>\n",
              "</table>\n",
              "</div>"
            ],
            "text/plain": [
              "                                    facility_address  \\\n",
              "0  Estrada Adhemar Bebiano, 339 Del Castilho, Rio...   \n",
              "1  R. José dos Reis Engenho de Dentro, Rio de Jan...   \n",
              "2  R. Dezessete, s/n Maré, Rio de Janeiro RJ, 210...   \n",
              "3  Rua Dr. Miguel Vieira Ferreira, 266 Ramos, Rio...   \n",
              "\n",
              "                                    incident_address  Total_Miles  \\\n",
              "0  Rua Tangapeme 133, Inhaúma, Rio de Janeiro, 20...     1.331829   \n",
              "1  Rua Tangapeme 133, Inhaúma, Rio de Janeiro, 20...     3.238644   \n",
              "2  Rua Tangapeme 133, Inhaúma, Rio de Janeiro, 20...     5.082800   \n",
              "3  Rua Tangapeme 133, Inhaúma, Rio de Janeiro, 20...    31.339973   \n",
              "\n",
              "   Total_TravelTime  \n",
              "0          5.314610  \n",
              "1         12.534585  \n",
              "2         18.599121  \n",
              "3         58.472556  "
            ]
          },
          "metadata": {
            "tags": []
          },
          "execution_count": 26
        }
      ]
    },
    {
      "cell_type": "markdown",
      "metadata": {
        "id": "euqq7tgTTGuA"
      },
      "source": [
        "\n",
        "#**Conclusion**\n",
        "Thus using the network module of the ArcGIS API for Python, you can solve for closest facilities from an incident location."
      ]
    }
  ]
}