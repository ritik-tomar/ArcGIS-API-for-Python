{
  "nbformat": 4,
  "nbformat_minor": 0,
  "metadata": {
    "esriNotebookRuntime": {
      "notebookRuntimeName": "ArcGIS Notebook Python 3 Standard",
      "notebookRuntimeVersion": "5.0"
    },
    "kernelspec": {
      "display_name": "Python 3",
      "language": "python",
      "name": "python3"
    },
    "language_info": {
      "codemirror_mode": {
        "name": "ipython",
        "version": 3
      },
      "file_extension": ".py",
      "mimetype": "text/x-python",
      "name": "python",
      "nbconvert_exporter": "python",
      "pygments_lexer": "ipython3",
      "version": "3.7.9"
    },
    "colab": {
      "name": "Data_Summarization_Construction_permits.ipynb",
      "provenance": []
    }
  },
  "cells": [
    {
      "cell_type": "markdown",
      "metadata": {
        "id": "gvsHM_HgNiYU"
      },
      "source": [
        "\n",
        "In the \"Explore and analyze construction permits\" notebook, we explored your data and learned a little about the spatial and temporal trends of permit activity in Montgomery County. In this lesson, we'll move beyond exploration and run spatial analysis tools to answer specific questions that can't be answered by the data itself. In particular, we want to know why permits spiked in Germantown in 2011 and predict where future permit spikes - and, by extension, future growth - are likely to occur.\n",
        "\n",
        "First, we'll aggregate the points by ZIP Code. We'll enrich each ZIP Code with demographic information and learn more about the demographic conditions that led to such rapid growth in such a short time. Once you determine why growth occurred where and when it did, we'll locate other ZIP Codes with similar demographic characteristics to predict future growth."
      ]
    },
    {
      "cell_type": "markdown",
      "metadata": {
        "id": "AXx6vtiCNmZP"
      },
      "source": [
        "#**Aggregate points**"
      ]
    },
    {
      "cell_type": "code",
      "metadata": {
        "id": "wVu5Ox8qNV1m"
      },
      "source": [
        "from arcgis import GIS"
      ],
      "execution_count": null,
      "outputs": []
    },
    {
      "cell_type": "code",
      "metadata": {
        "id": "EylrOiwfNV1q"
      },
      "source": [
        "gis = GIS('home')"
      ],
      "execution_count": null,
      "outputs": []
    },
    {
      "cell_type": "code",
      "metadata": {
        "id": "r8gvLG9aNV1r",
        "outputId": "8c2e9888-b777-4ac2-c7b8-caf56e7f2c2b"
      },
      "source": [
        "data = gis.content.search(\"Commercial_Permits_since_2010 owner:api_data_owner\",\n",
        "                          'Feature layer',\n",
        "                           outside_org=True)\n",
        "data[0]"
      ],
      "execution_count": null,
      "outputs": [
        {
          "output_type": "execute_result",
          "data": {
            "text/html": [
              "<div class=\"item_container\" style=\"height: auto; overflow: hidden; border: 1px solid #cfcfcf; border-radius: 2px; background: #f6fafa; line-height: 1.21429em; padding: 10px;\">\n",
              "                    <div class=\"item_left\" style=\"width: 210px; float: left;\">\n",
              "                       <a href='https://www.arcgis.com/home/item.html?id=854958bac3004f4c88aaca9f64a4d2d9' target='_blank'>\n",
              "                        <img src='data:image/png;base64,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' width='200' height='133' class=\"itemThumbnail\">\n",
              "                       </a>\n",
              "                    </div>\n",
              "\n",
              "                    <div class=\"item_right\"     style=\"float: none; width: auto; overflow: hidden;\">\n",
              "                        <a href='https://www.arcgis.com/home/item.html?id=854958bac3004f4c88aaca9f64a4d2d9' target='_blank'><b>Commercial_Permits_since_2010</b>\n",
              "                        </a>\n",
              "                        <br/>test data<img src='https://www.arcgis.com/home/js/jsapi/esri/css/images/item_type_icons/featureshosted16.png' style=\"vertical-align:middle;\">Feature Layer Collection by api_data_owner\n",
              "                        <br/>Last Modified: July 01, 2019\n",
              "                        <br/>0 comments, 41 views\n",
              "                    </div>\n",
              "                </div>\n",
              "                "
            ],
            "text/plain": [
              "<Item title:\"Commercial_Permits_since_2010\" type:Feature Layer Collection owner:api_data_owner>"
            ]
          },
          "metadata": {
            "tags": []
          },
          "execution_count": 3
        }
      ]
    },
    {
      "cell_type": "code",
      "metadata": {
        "id": "IBIjTrG8NV1s"
      },
      "source": [
        "permits = data[0]\n",
        "permit_layer = permits.layers[0]"
      ],
      "execution_count": null,
      "outputs": []
    },
    {
      "cell_type": "code",
      "metadata": {
        "id": "7CJhusxnNV1t",
        "outputId": "490b47c1-2f4f-41e6-811c-166459ef3688"
      },
      "source": [
        "zip_code = gis.content.search('title:ZIP Code Boundaries 2017 owner:esri_dm', 'Feature layer',\n",
        "                           outside_org=True)\n",
        "zip_code[0]"
      ],
      "execution_count": null,
      "outputs": [
        {
          "output_type": "execute_result",
          "data": {
            "text/html": [
              "<div class=\"item_container\" style=\"height: auto; overflow: hidden; border: 1px solid #cfcfcf; border-radius: 2px; background: #f6fafa; line-height: 1.21429em; padding: 10px;\">\n",
              "                    <div class=\"item_left\" style=\"width: 210px; float: left;\">\n",
              "                       <a href='https://www.arcgis.com/home/item.html?id=78778fe9e4244f71b8194122d1f228ae' target='_blank'>\n",
              "                        <img src='data:image/png;base64,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' width='200' height='133' class=\"itemThumbnail\">\n",
              "                       </a>\n",
              "                    </div>\n",
              "\n",
              "                    <div class=\"item_right\"     style=\"float: none; width: auto; overflow: hidden;\">\n",
              "                        <a href='https://www.arcgis.com/home/item.html?id=78778fe9e4244f71b8194122d1f228ae' target='_blank'><b>United States ZIP Code Boundaries 2017</b>\n",
              "                        </a>\n",
              "                        <br/>This layer shows the ZIP Code level boundaries of United States in 2017. The boundaries are optimized to improve Data Enrichment analysis performance.<img src='https://www.arcgis.com/home/js/jsapi/esri/css/images/item_type_icons/featureshosted16.png' style=\"vertical-align:middle;\">Feature Layer Collection by esri_dm\n",
              "                        <br/>Last Modified: June 20, 2019\n",
              "                        <br/>0 comments, 86,625 views\n",
              "                    </div>\n",
              "                </div>\n",
              "                "
            ],
            "text/plain": [
              "<Item title:\"United States ZIP Code Boundaries 2017\" type:Feature Layer Collection owner:esri_dm>"
            ]
          },
          "metadata": {
            "tags": []
          },
          "execution_count": 5
        }
      ]
    },
    {
      "cell_type": "code",
      "metadata": {
        "id": "w2l2z6diNV1t"
      },
      "source": [
        "zip_item = zip_code[0]"
      ],
      "execution_count": null,
      "outputs": []
    },
    {
      "cell_type": "markdown",
      "metadata": {
        "id": "88EG6OldNt0-"
      },
      "source": [
        "\n",
        "The USA_ZIP_Code layer is added as a new item. Since the item is a feature layer collection, using the layers property will give us a list of layers."
      ]
    },
    {
      "cell_type": "code",
      "metadata": {
        "id": "wAYO7sbSNV1u",
        "outputId": "2fc9b009-7992-480e-cf80-5ee614a64675"
      },
      "source": [
        "for lyr in zip_item.layers:\n",
        "    print(lyr.properties.name)"
      ],
      "execution_count": null,
      "outputs": [
        {
          "output_type": "stream",
          "text": [
            "USA_Country\n",
            "USA_State\n",
            "USA_County\n",
            "USA_ZipCode\n",
            "USA_Tract\n",
            "USA_BlockGroup\n"
          ],
          "name": "stdout"
        }
      ]
    },
    {
      "cell_type": "code",
      "metadata": {
        "id": "1frgz66FNV1v"
      },
      "source": [
        "zip_code_layer = zip_item.layers[3]"
      ],
      "execution_count": null,
      "outputs": []
    },
    {
      "cell_type": "markdown",
      "metadata": {
        "id": "fFd21Qs0Nw7G"
      },
      "source": [
        "\n",
        "Next, you'll use this layer to aggregate permit points. By default, the parameters are set to use the ZIP Codes as the area layer, the permits as the layer to be aggregated, and the layer style to be based on permit count. These parameters are exactly what you want."
      ]
    },
    {
      "cell_type": "code",
      "metadata": {
        "id": "h6YBgBuENV1v"
      },
      "source": [
        "from arcgis.features.summarize_data import aggregate_points\n",
        "from datetime import datetime as dt"
      ],
      "execution_count": null,
      "outputs": []
    },
    {
      "cell_type": "code",
      "metadata": {
        "id": "YuTQx-VINV1w"
      },
      "source": [
        "permit_agg_by_zip = aggregate_points(permit_layer, zip_code_layer, \n",
        "                                     keep_boundaries_with_no_points=False,\n",
        "                                     output_name='zipcode_aggregate' + str(dt.now().microsecond))"
      ],
      "execution_count": null,
      "outputs": []
    },
    {
      "cell_type": "code",
      "metadata": {
        "id": "F3Y6o3rVNV1x",
        "outputId": "e660c7f9-7aa2-4e4a-ee91-6664d4178c05"
      },
      "source": [
        "permit_agg_by_zip"
      ],
      "execution_count": null,
      "outputs": [
        {
          "output_type": "execute_result",
          "data": {
            "text/html": [
              "<div class=\"item_container\" style=\"height: auto; overflow: hidden; border: 1px solid #cfcfcf; border-radius: 2px; background: #f6fafa; line-height: 1.21429em; padding: 10px;\">\n",
              "                    <div class=\"item_left\" style=\"width: 210px; float: left;\">\n",
              "                       <a href='https://www.arcgis.com/home/item.html?id=4731e210acf0420594a85a90bd7256fa' target='_blank'>\n",
              "                        <img src='http://static.arcgis.com/images/desktopapp.png' class=\"itemThumbnail\">\n",
              "                       </a>\n",
              "                    </div>\n",
              "\n",
              "                    <div class=\"item_right\"     style=\"float: none; width: auto; overflow: hidden;\">\n",
              "                        <a href='https://www.arcgis.com/home/item.html?id=4731e210acf0420594a85a90bd7256fa' target='_blank'><b>zipcode_aggregate650816</b>\n",
              "                        </a>\n",
              "                        <br/><img src='https://www.arcgis.com/home/js/jsapi/esri/css/images/item_type_icons/featureshosted16.png' style=\"vertical-align:middle;\">Feature Layer Collection by Ritik_Choudhary_LearnArcGIS\n",
              "                        <br/>Last Modified: August 08, 2021\n",
              "                        <br/>0 comments, 1 views\n",
              "                    </div>\n",
              "                </div>\n",
              "                "
            ],
            "text/plain": [
              "<Item title:\"zipcode_aggregate650816\" type:Feature Layer Collection owner:Ritik_Choudhary_LearnArcGIS>"
            ]
          },
          "metadata": {
            "tags": []
          },
          "execution_count": 11
        }
      ]
    },
    {
      "cell_type": "markdown",
      "metadata": {
        "id": "x16jqp_MN0gW"
      },
      "source": [
        "#**Aggregation** **results**"
      ]
    },
    {
      "cell_type": "code",
      "metadata": {
        "colab": {
          "referenced_widgets": [
            "ed88c6477506444eb20880a677cbab47"
          ]
        },
        "id": "0mqItOCUNV1x",
        "outputId": "6cf842f4-78f8-46be-a282-003d47851822"
      },
      "source": [
        "agg_map = gis.map('Maryland')\n",
        "agg_map"
      ],
      "execution_count": null,
      "outputs": [
        {
          "output_type": "display_data",
          "data": {
            "application/vnd.jupyter.widget-view+json": {
              "model_id": "ed88c6477506444eb20880a677cbab47",
              "version_major": 2,
              "version_minor": 0
            },
            "text/plain": [
              "MapView(layout=Layout(height='400px', width='100%'))"
            ]
          },
          "metadata": {
            "tags": []
          }
        },
        {
          "output_type": "display_data",
          "data": {
            "text/html": [
              "<div class=\"map-static-img-preview-c525b4de-8ea3-4a66-ad9e-5c48faaec0eb\"><img src=\"\"></img></div>"
            ],
            "text/plain": [
              "<IPython.core.display.HTML object>"
            ]
          },
          "metadata": {
            "tags": []
          }
        },
        {
          "output_type": "display_data",
          "data": {
            "text/html": [
              "<div class=\"map-html-embed-preview-c525b4de-8ea3-4a66-ad9e-5c48faaec0eb\"></div>"
            ],
            "text/plain": [
              "<IPython.core.display.HTML object>"
            ]
          },
          "metadata": {
            "tags": []
          }
        }
      ]
    },
    {
      "cell_type": "code",
      "metadata": {
        "id": "rBeqX-8jNV1y"
      },
      "source": [
        "agg_map.add_layer(permit_agg_by_zip)"
      ],
      "execution_count": null,
      "outputs": []
    },
    {
      "cell_type": "markdown",
      "metadata": {
        "id": "5NI3EA9CN-fo"
      },
      "source": [
        "\n",
        "The new layer looks like a point layer, but it's actually a polygon layer with a point symbology. Each point represents the number of permits per ZIP Code area. Larger points indicate ZIP Codes with more permits."
      ]
    },
    {
      "cell_type": "code",
      "metadata": {
        "id": "imNH7JVwNV1y"
      },
      "source": [
        "import pandas as pd"
      ],
      "execution_count": null,
      "outputs": []
    },
    {
      "cell_type": "code",
      "metadata": {
        "id": "v0smYSSFNV1y"
      },
      "source": [
        "sdf = pd.DataFrame.spatial.from_layer(permit_agg_by_zip.layers[0])"
      ],
      "execution_count": null,
      "outputs": []
    },
    {
      "cell_type": "code",
      "metadata": {
        "id": "fLpGuOEiNV1z",
        "outputId": "5d19e7ad-6758-4ec5-d475-6d33064226bd"
      },
      "source": [
        "sdf.head(10)"
      ],
      "execution_count": null,
      "outputs": [
        {
          "output_type": "execute_result",
          "data": {
            "text/html": [
              "<div>\n",
              "<style scoped>\n",
              "    .dataframe tbody tr th:only-of-type {\n",
              "        vertical-align: middle;\n",
              "    }\n",
              "\n",
              "    .dataframe tbody tr th {\n",
              "        vertical-align: top;\n",
              "    }\n",
              "\n",
              "    .dataframe thead th {\n",
              "        text-align: right;\n",
              "    }\n",
              "</style>\n",
              "<table border=\"1\" class=\"dataframe\">\n",
              "  <thead>\n",
              "    <tr style=\"text-align: right;\">\n",
              "      <th></th>\n",
              "      <th>OBJECTID</th>\n",
              "      <th>ZIP_CODE</th>\n",
              "      <th>PO_NAME</th>\n",
              "      <th>STATE</th>\n",
              "      <th>POPULATION</th>\n",
              "      <th>SQMI</th>\n",
              "      <th>Point_Count</th>\n",
              "      <th>AnalysisArea</th>\n",
              "      <th>SHAPE</th>\n",
              "    </tr>\n",
              "  </thead>\n",
              "  <tbody>\n",
              "    <tr>\n",
              "      <th>0</th>\n",
              "      <td>1</td>\n",
              "      <td>20012</td>\n",
              "      <td>Washington</td>\n",
              "      <td>DC</td>\n",
              "      <td>14652</td>\n",
              "      <td>2.36</td>\n",
              "      <td>6</td>\n",
              "      <td>6.104119</td>\n",
              "      <td>{\"rings\": [[[-77.0266270001359, 38.98455799965...</td>\n",
              "    </tr>\n",
              "    <tr>\n",
              "      <th>1</th>\n",
              "      <td>2</td>\n",
              "      <td>20783</td>\n",
              "      <td>Hyattsville</td>\n",
              "      <td>MD</td>\n",
              "      <td>48592</td>\n",
              "      <td>6.26</td>\n",
              "      <td>1</td>\n",
              "      <td>16.182483</td>\n",
              "      <td>{\"rings\": [[[-76.9414389999099, 39.02912599996...</td>\n",
              "    </tr>\n",
              "    <tr>\n",
              "      <th>2</th>\n",
              "      <td>3</td>\n",
              "      <td>20812</td>\n",
              "      <td>Glen Echo</td>\n",
              "      <td>MD</td>\n",
              "      <td>219</td>\n",
              "      <td>0.19</td>\n",
              "      <td>1</td>\n",
              "      <td>0.494845</td>\n",
              "      <td>{\"rings\": [[[-77.1384300001444, 38.96841399980...</td>\n",
              "    </tr>\n",
              "    <tr>\n",
              "      <th>3</th>\n",
              "      <td>4</td>\n",
              "      <td>20814</td>\n",
              "      <td>Bethesda</td>\n",
              "      <td>MD</td>\n",
              "      <td>30017</td>\n",
              "      <td>5.17</td>\n",
              "      <td>1145</td>\n",
              "      <td>13.385917</td>\n",
              "      <td>{\"rings\": [[[-77.0943629995527, 39.02250799964...</td>\n",
              "    </tr>\n",
              "    <tr>\n",
              "      <th>4</th>\n",
              "      <td>5</td>\n",
              "      <td>20815</td>\n",
              "      <td>Chevy Chase</td>\n",
              "      <td>MD</td>\n",
              "      <td>30001</td>\n",
              "      <td>5.35</td>\n",
              "      <td>586</td>\n",
              "      <td>13.884481</td>\n",
              "      <td>{\"rings\": [[[-77.0635971995511, 39.01197539974...</td>\n",
              "    </tr>\n",
              "    <tr>\n",
              "      <th>5</th>\n",
              "      <td>6</td>\n",
              "      <td>20816</td>\n",
              "      <td>Bethesda</td>\n",
              "      <td>MD</td>\n",
              "      <td>16967</td>\n",
              "      <td>4.61</td>\n",
              "      <td>154</td>\n",
              "      <td>11.933895</td>\n",
              "      <td>{\"rings\": [[[-77.1429960002652, 38.97162000016...</td>\n",
              "    </tr>\n",
              "    <tr>\n",
              "      <th>6</th>\n",
              "      <td>7</td>\n",
              "      <td>20817</td>\n",
              "      <td>Bethesda</td>\n",
              "      <td>MD</td>\n",
              "      <td>38385</td>\n",
              "      <td>13.89</td>\n",
              "      <td>732</td>\n",
              "      <td>35.974917</td>\n",
              "      <td>{\"rings\": [[[-77.1267290001432, 39.02947299977...</td>\n",
              "    </tr>\n",
              "    <tr>\n",
              "      <th>7</th>\n",
              "      <td>8</td>\n",
              "      <td>20818</td>\n",
              "      <td>Cabin John</td>\n",
              "      <td>MD</td>\n",
              "      <td>1383</td>\n",
              "      <td>0.98</td>\n",
              "      <td>13</td>\n",
              "      <td>2.534398</td>\n",
              "      <td>{\"rings\": [[[-77.1573989998639, 38.98250600035...</td>\n",
              "    </tr>\n",
              "    <tr>\n",
              "      <th>8</th>\n",
              "      <td>9</td>\n",
              "      <td>20832</td>\n",
              "      <td>Olney</td>\n",
              "      <td>MD</td>\n",
              "      <td>26858</td>\n",
              "      <td>9.43</td>\n",
              "      <td>216</td>\n",
              "      <td>24.415698</td>\n",
              "      <td>{\"rings\": [[[-77.0921479999302, 39.16957599993...</td>\n",
              "    </tr>\n",
              "    <tr>\n",
              "      <th>9</th>\n",
              "      <td>10</td>\n",
              "      <td>20833</td>\n",
              "      <td>Brookeville</td>\n",
              "      <td>MD</td>\n",
              "      <td>8380</td>\n",
              "      <td>22.87</td>\n",
              "      <td>40</td>\n",
              "      <td>59.236489</td>\n",
              "      <td>{\"rings\": [[[-77.0616859999089, 39.27760500037...</td>\n",
              "    </tr>\n",
              "  </tbody>\n",
              "</table>\n",
              "</div>"
            ],
            "text/plain": [
              "   OBJECTID ZIP_CODE      PO_NAME STATE  POPULATION   SQMI  Point_Count  \\\n",
              "0         1    20012   Washington    DC       14652   2.36            6   \n",
              "1         2    20783  Hyattsville    MD       48592   6.26            1   \n",
              "2         3    20812    Glen Echo    MD         219   0.19            1   \n",
              "3         4    20814     Bethesda    MD       30017   5.17         1145   \n",
              "4         5    20815  Chevy Chase    MD       30001   5.35          586   \n",
              "5         6    20816     Bethesda    MD       16967   4.61          154   \n",
              "6         7    20817     Bethesda    MD       38385  13.89          732   \n",
              "7         8    20818   Cabin John    MD        1383   0.98           13   \n",
              "8         9    20832        Olney    MD       26858   9.43          216   \n",
              "9        10    20833  Brookeville    MD        8380  22.87           40   \n",
              "\n",
              "   AnalysisArea                                              SHAPE  \n",
              "0      6.104119  {\"rings\": [[[-77.0266270001359, 38.98455799965...  \n",
              "1     16.182483  {\"rings\": [[[-76.9414389999099, 39.02912599996...  \n",
              "2      0.494845  {\"rings\": [[[-77.1384300001444, 38.96841399980...  \n",
              "3     13.385917  {\"rings\": [[[-77.0943629995527, 39.02250799964...  \n",
              "4     13.884481  {\"rings\": [[[-77.0635971995511, 39.01197539974...  \n",
              "5     11.933895  {\"rings\": [[[-77.1429960002652, 38.97162000016...  \n",
              "6     35.974917  {\"rings\": [[[-77.1267290001432, 39.02947299977...  \n",
              "7      2.534398  {\"rings\": [[[-77.1573989998639, 38.98250600035...  \n",
              "8     24.415698  {\"rings\": [[[-77.0921479999302, 39.16957599993...  \n",
              "9     59.236489  {\"rings\": [[[-77.0616859999089, 39.27760500037...  "
            ]
          },
          "metadata": {
            "tags": []
          },
          "execution_count": 16
        }
      ]
    },
    {
      "cell_type": "code",
      "metadata": {
        "id": "0ln0PdoJNV1z"
      },
      "source": [
        "sdf.reset_index(inplace=True)"
      ],
      "execution_count": null,
      "outputs": []
    },
    {
      "cell_type": "code",
      "metadata": {
        "id": "aRvHOAtyNV1z",
        "outputId": "c41aa5a8-81be-4895-a83c-ef6480677c2d"
      },
      "source": [
        "sdf.head()"
      ],
      "execution_count": null,
      "outputs": [
        {
          "output_type": "execute_result",
          "data": {
            "text/html": [
              "<div>\n",
              "<style scoped>\n",
              "    .dataframe tbody tr th:only-of-type {\n",
              "        vertical-align: middle;\n",
              "    }\n",
              "\n",
              "    .dataframe tbody tr th {\n",
              "        vertical-align: top;\n",
              "    }\n",
              "\n",
              "    .dataframe thead th {\n",
              "        text-align: right;\n",
              "    }\n",
              "</style>\n",
              "<table border=\"1\" class=\"dataframe\">\n",
              "  <thead>\n",
              "    <tr style=\"text-align: right;\">\n",
              "      <th></th>\n",
              "      <th>index</th>\n",
              "      <th>OBJECTID</th>\n",
              "      <th>ZIP_CODE</th>\n",
              "      <th>PO_NAME</th>\n",
              "      <th>STATE</th>\n",
              "      <th>POPULATION</th>\n",
              "      <th>SQMI</th>\n",
              "      <th>Point_Count</th>\n",
              "      <th>AnalysisArea</th>\n",
              "      <th>SHAPE</th>\n",
              "    </tr>\n",
              "  </thead>\n",
              "  <tbody>\n",
              "    <tr>\n",
              "      <th>0</th>\n",
              "      <td>0</td>\n",
              "      <td>1</td>\n",
              "      <td>20012</td>\n",
              "      <td>Washington</td>\n",
              "      <td>DC</td>\n",
              "      <td>14652</td>\n",
              "      <td>2.36</td>\n",
              "      <td>6</td>\n",
              "      <td>6.104119</td>\n",
              "      <td>{\"rings\": [[[-77.0266270001359, 38.98455799965...</td>\n",
              "    </tr>\n",
              "    <tr>\n",
              "      <th>1</th>\n",
              "      <td>1</td>\n",
              "      <td>2</td>\n",
              "      <td>20783</td>\n",
              "      <td>Hyattsville</td>\n",
              "      <td>MD</td>\n",
              "      <td>48592</td>\n",
              "      <td>6.26</td>\n",
              "      <td>1</td>\n",
              "      <td>16.182483</td>\n",
              "      <td>{\"rings\": [[[-76.9414389999099, 39.02912599996...</td>\n",
              "    </tr>\n",
              "    <tr>\n",
              "      <th>2</th>\n",
              "      <td>2</td>\n",
              "      <td>3</td>\n",
              "      <td>20812</td>\n",
              "      <td>Glen Echo</td>\n",
              "      <td>MD</td>\n",
              "      <td>219</td>\n",
              "      <td>0.19</td>\n",
              "      <td>1</td>\n",
              "      <td>0.494845</td>\n",
              "      <td>{\"rings\": [[[-77.1384300001444, 38.96841399980...</td>\n",
              "    </tr>\n",
              "    <tr>\n",
              "      <th>3</th>\n",
              "      <td>3</td>\n",
              "      <td>4</td>\n",
              "      <td>20814</td>\n",
              "      <td>Bethesda</td>\n",
              "      <td>MD</td>\n",
              "      <td>30017</td>\n",
              "      <td>5.17</td>\n",
              "      <td>1145</td>\n",
              "      <td>13.385917</td>\n",
              "      <td>{\"rings\": [[[-77.0943629995527, 39.02250799964...</td>\n",
              "    </tr>\n",
              "    <tr>\n",
              "      <th>4</th>\n",
              "      <td>4</td>\n",
              "      <td>5</td>\n",
              "      <td>20815</td>\n",
              "      <td>Chevy Chase</td>\n",
              "      <td>MD</td>\n",
              "      <td>30001</td>\n",
              "      <td>5.35</td>\n",
              "      <td>586</td>\n",
              "      <td>13.884481</td>\n",
              "      <td>{\"rings\": [[[-77.0635971995511, 39.01197539974...</td>\n",
              "    </tr>\n",
              "  </tbody>\n",
              "</table>\n",
              "</div>"
            ],
            "text/plain": [
              "   index  OBJECTID ZIP_CODE      PO_NAME STATE  POPULATION  SQMI  Point_Count  \\\n",
              "0      0         1    20012   Washington    DC       14652  2.36            6   \n",
              "1      1         2    20783  Hyattsville    MD       48592  6.26            1   \n",
              "2      2         3    20812    Glen Echo    MD         219  0.19            1   \n",
              "3      3         4    20814     Bethesda    MD       30017  5.17         1145   \n",
              "4      4         5    20815  Chevy Chase    MD       30001  5.35          586   \n",
              "\n",
              "   AnalysisArea                                              SHAPE  \n",
              "0      6.104119  {\"rings\": [[[-77.0266270001359, 38.98455799965...  \n",
              "1     16.182483  {\"rings\": [[[-76.9414389999099, 39.02912599996...  \n",
              "2      0.494845  {\"rings\": [[[-77.1384300001444, 38.96841399980...  \n",
              "3     13.385917  {\"rings\": [[[-77.0943629995527, 39.02250799964...  \n",
              "4     13.884481  {\"rings\": [[[-77.0635971995511, 39.01197539974...  "
            ]
          },
          "metadata": {
            "tags": []
          },
          "execution_count": 18
        }
      ]
    },
    {
      "cell_type": "markdown",
      "metadata": {
        "id": "8BQvz9A3OC-j"
      },
      "source": [
        "\n",
        "Review some basic statistics about the data."
      ]
    },
    {
      "cell_type": "code",
      "metadata": {
        "id": "Ez7TIBMONV1z",
        "outputId": "a1c55e46-4f9c-433a-f2aa-e0b94de4b011"
      },
      "source": [
        "sdf['Point_Count'].mean()"
      ],
      "execution_count": null,
      "outputs": [
        {
          "output_type": "execute_result",
          "data": {
            "text/plain": [
              "249.42222222222222"
            ]
          },
          "metadata": {
            "tags": []
          },
          "execution_count": 19
        }
      ]
    },
    {
      "cell_type": "code",
      "metadata": {
        "id": "3XYSeNteNV1z",
        "outputId": "d84fa356-5275-4b9b-8d92-9d9809c435a4"
      },
      "source": [
        "sdf['Point_Count'].max()"
      ],
      "execution_count": null,
      "outputs": [
        {
          "output_type": "execute_result",
          "data": {
            "text/plain": [
              "1145"
            ]
          },
          "metadata": {
            "tags": []
          },
          "execution_count": 20
        }
      ]
    },
    {
      "cell_type": "code",
      "metadata": {
        "id": "2nxXxfsmNV10",
        "outputId": "0aefe72c-faa8-4e44-9f30-7e9a63abe26b"
      },
      "source": [
        "sdf['Point_Count'].min()"
      ],
      "execution_count": null,
      "outputs": [
        {
          "output_type": "execute_result",
          "data": {
            "text/plain": [
              "1"
            ]
          },
          "metadata": {
            "tags": []
          },
          "execution_count": 21
        }
      ]
    },
    {
      "cell_type": "code",
      "metadata": {
        "id": "2hNebUKZNV10"
      },
      "source": [
        "agg_layer = permit_agg_by_zip.layers[0]"
      ],
      "execution_count": null,
      "outputs": []
    },
    {
      "cell_type": "markdown",
      "metadata": {
        "id": "8FLV7nP7OGZ1"
      },
      "source": [
        "\n",
        "Although most of the large point symbols on the map are in the southeast corner, near Washington, D.C., there are a few large points in the northwest. In particular, there is a very large circle in the ZIP Code located in Clarksburg. (If you're using different ZIP Code data, this area may be identified as ZIP Code 20871 instead.) The ZIP code has 948 permits. Additionally, this area geographically corresponds to the hot spot you identified in the previous lesson. This ZIP Code is one that you'll focus on when you enrich your layer with demographic data."
      ]
    },
    {
      "cell_type": "markdown",
      "metadata": {
        "id": "NRrOoHRdOJBF"
      },
      "source": [
        "#**Enrich the data**\n",
        "Are there demographic characteristics about the Clarksburg ZIP Code that contributed to its high growth? If so, are there other areas with those characteristics that may experience growth in the future? To answer these questions, you'll use the Enrich Data analysis tool. This tool adds demographic attributes of your choice to your data. Specifically, you'll add Tapestry information to each ZIP Code. Tapestry is a summary of many demographic and socioeconomic variables, including age groups and lifestyle choices. It'll teach you more about the types of people who live in your area of interest and help you better understand the reasons why growth happened where it did."
      ]
    },
    {
      "cell_type": "code",
      "metadata": {
        "id": "inAnfnaWNV11"
      },
      "source": [
        "from arcgis.features.enrich_data import enrich_layer"
      ],
      "execution_count": null,
      "outputs": []
    },
    {
      "cell_type": "code",
      "metadata": {
        "id": "ij1xZbAfNV11"
      },
      "source": [
        "enrich_aggregate = enrich_layer(agg_layer, \n",
        "                                analysis_variables=[\"AtRisk.TSEGNAME\"],\n",
        "                                output_name=\"added_tapestry_var\" + str(dt.now().microsecond))"
      ],
      "execution_count": null,
      "outputs": []
    },
    {
      "cell_type": "code",
      "metadata": {
        "id": "Z6-sozITNV11",
        "outputId": "fe1d8f15-0e46-4d21-a298-841efc9480bb"
      },
      "source": [
        "enrich_aggregate"
      ],
      "execution_count": null,
      "outputs": [
        {
          "output_type": "execute_result",
          "data": {
            "text/html": [
              "<div class=\"item_container\" style=\"height: auto; overflow: hidden; border: 1px solid #cfcfcf; border-radius: 2px; background: #f6fafa; line-height: 1.21429em; padding: 10px;\">\n",
              "                    <div class=\"item_left\" style=\"width: 210px; float: left;\">\n",
              "                       <a href='https://www.arcgis.com/home/item.html?id=8a40571887e842389ce5ec9b21358352' target='_blank'>\n",
              "                        <img src='http://static.arcgis.com/images/desktopapp.png' class=\"itemThumbnail\">\n",
              "                       </a>\n",
              "                    </div>\n",
              "\n",
              "                    <div class=\"item_right\"     style=\"float: none; width: auto; overflow: hidden;\">\n",
              "                        <a href='https://www.arcgis.com/home/item.html?id=8a40571887e842389ce5ec9b21358352' target='_blank'><b>added_tapestry_var390206</b>\n",
              "                        </a>\n",
              "                        <br/><img src='https://www.arcgis.com/home/js/jsapi/esri/css/images/item_type_icons/featureshosted16.png' style=\"vertical-align:middle;\">Feature Layer Collection by Ritik_Choudhary_LearnArcGIS\n",
              "                        <br/>Last Modified: August 08, 2021\n",
              "                        <br/>0 comments, 0 views\n",
              "                    </div>\n",
              "                </div>\n",
              "                "
            ],
            "text/plain": [
              "<Item title:\"added_tapestry_var390206\" type:Feature Layer Collection owner:Ritik_Choudhary_LearnArcGIS>"
            ]
          },
          "metadata": {
            "tags": []
          },
          "execution_count": 25
        }
      ]
    },
    {
      "cell_type": "code",
      "metadata": {
        "id": "-sqXOCRhNV11"
      },
      "source": [
        "agg_lyr = enrich_aggregate.layers[0]"
      ],
      "execution_count": null,
      "outputs": []
    },
    {
      "cell_type": "code",
      "metadata": {
        "id": "onSA8shDNV11"
      },
      "source": [
        "sdf = pd.DataFrame.spatial.from_layer(agg_lyr)"
      ],
      "execution_count": null,
      "outputs": []
    },
    {
      "cell_type": "code",
      "metadata": {
        "id": "y6dX1oeJNV11",
        "outputId": "754bad7f-5f69-483e-8d0d-141bae58a542"
      },
      "source": [
        "sdf.head()"
      ],
      "execution_count": null,
      "outputs": [
        {
          "output_type": "execute_result",
          "data": {
            "text/html": [
              "<div>\n",
              "<style scoped>\n",
              "    .dataframe tbody tr th:only-of-type {\n",
              "        vertical-align: middle;\n",
              "    }\n",
              "\n",
              "    .dataframe tbody tr th {\n",
              "        vertical-align: top;\n",
              "    }\n",
              "\n",
              "    .dataframe thead th {\n",
              "        text-align: right;\n",
              "    }\n",
              "</style>\n",
              "<table border=\"1\" class=\"dataframe\">\n",
              "  <thead>\n",
              "    <tr style=\"text-align: right;\">\n",
              "      <th></th>\n",
              "      <th>OBJECTID</th>\n",
              "      <th>ZIP_CODE</th>\n",
              "      <th>PO_NAME</th>\n",
              "      <th>STATE</th>\n",
              "      <th>POPULATION</th>\n",
              "      <th>SQMI</th>\n",
              "      <th>Point_Count</th>\n",
              "      <th>AnalysisArea</th>\n",
              "      <th>ID</th>\n",
              "      <th>sourceCountry</th>\n",
              "      <th>ENRICH_FID</th>\n",
              "      <th>aggregationMethod</th>\n",
              "      <th>populationToPolygonSizeRating</th>\n",
              "      <th>apportionmentConfidence</th>\n",
              "      <th>HasData</th>\n",
              "      <th>TSEGNAME</th>\n",
              "      <th>SHAPE</th>\n",
              "    </tr>\n",
              "  </thead>\n",
              "  <tbody>\n",
              "    <tr>\n",
              "      <th>0</th>\n",
              "      <td>1</td>\n",
              "      <td>20012</td>\n",
              "      <td>Washington</td>\n",
              "      <td>DC</td>\n",
              "      <td>14652</td>\n",
              "      <td>2.36</td>\n",
              "      <td>6</td>\n",
              "      <td>6.104119</td>\n",
              "      <td>0</td>\n",
              "      <td>US</td>\n",
              "      <td>1</td>\n",
              "      <td>BlockApportionment:US.BlockGroups</td>\n",
              "      <td>2.191</td>\n",
              "      <td>2.576</td>\n",
              "      <td>1</td>\n",
              "      <td>City Lights</td>\n",
              "      <td>{\"rings\": [[[-77.026627, 38.9845580000001], [-...</td>\n",
              "    </tr>\n",
              "    <tr>\n",
              "      <th>1</th>\n",
              "      <td>2</td>\n",
              "      <td>20783</td>\n",
              "      <td>Hyattsville</td>\n",
              "      <td>MD</td>\n",
              "      <td>48592</td>\n",
              "      <td>6.26</td>\n",
              "      <td>1</td>\n",
              "      <td>16.182483</td>\n",
              "      <td>1</td>\n",
              "      <td>US</td>\n",
              "      <td>2</td>\n",
              "      <td>BlockApportionment:US.BlockGroups</td>\n",
              "      <td>2.191</td>\n",
              "      <td>2.576</td>\n",
              "      <td>1</td>\n",
              "      <td>NeWest Residents</td>\n",
              "      <td>{\"rings\": [[[-76.9414389999999, 39.02912600000...</td>\n",
              "    </tr>\n",
              "    <tr>\n",
              "      <th>2</th>\n",
              "      <td>3</td>\n",
              "      <td>20812</td>\n",
              "      <td>Glen Echo</td>\n",
              "      <td>MD</td>\n",
              "      <td>219</td>\n",
              "      <td>0.19</td>\n",
              "      <td>1</td>\n",
              "      <td>0.494845</td>\n",
              "      <td>2</td>\n",
              "      <td>US</td>\n",
              "      <td>3</td>\n",
              "      <td>BlockApportionment:US.BlockGroups</td>\n",
              "      <td>2.191</td>\n",
              "      <td>2.576</td>\n",
              "      <td>1</td>\n",
              "      <td>Urban Chic</td>\n",
              "      <td>{\"rings\": [[[-77.13843, 38.9684140000001], [-7...</td>\n",
              "    </tr>\n",
              "    <tr>\n",
              "      <th>3</th>\n",
              "      <td>4</td>\n",
              "      <td>20814</td>\n",
              "      <td>Bethesda</td>\n",
              "      <td>MD</td>\n",
              "      <td>30017</td>\n",
              "      <td>5.17</td>\n",
              "      <td>1145</td>\n",
              "      <td>13.385917</td>\n",
              "      <td>3</td>\n",
              "      <td>US</td>\n",
              "      <td>4</td>\n",
              "      <td>BlockApportionment:US.BlockGroups</td>\n",
              "      <td>2.191</td>\n",
              "      <td>2.576</td>\n",
              "      <td>1</td>\n",
              "      <td>Metro Renters</td>\n",
              "      <td>{\"rings\": [[[-77.094363, 39.0225080000001], [-...</td>\n",
              "    </tr>\n",
              "    <tr>\n",
              "      <th>4</th>\n",
              "      <td>5</td>\n",
              "      <td>20815</td>\n",
              "      <td>Chevy Chase</td>\n",
              "      <td>MD</td>\n",
              "      <td>30001</td>\n",
              "      <td>5.35</td>\n",
              "      <td>586</td>\n",
              "      <td>13.884481</td>\n",
              "      <td>4</td>\n",
              "      <td>US</td>\n",
              "      <td>5</td>\n",
              "      <td>BlockApportionment:US.BlockGroups</td>\n",
              "      <td>2.191</td>\n",
              "      <td>2.576</td>\n",
              "      <td>1</td>\n",
              "      <td>Top Tier</td>\n",
              "      <td>{\"rings\": [[[-77.0635971999999, 39.0119754], [...</td>\n",
              "    </tr>\n",
              "  </tbody>\n",
              "</table>\n",
              "</div>"
            ],
            "text/plain": [
              "   OBJECTID ZIP_CODE      PO_NAME STATE  POPULATION  SQMI  Point_Count  \\\n",
              "0         1    20012   Washington    DC       14652  2.36            6   \n",
              "1         2    20783  Hyattsville    MD       48592  6.26            1   \n",
              "2         3    20812    Glen Echo    MD         219  0.19            1   \n",
              "3         4    20814     Bethesda    MD       30017  5.17         1145   \n",
              "4         5    20815  Chevy Chase    MD       30001  5.35          586   \n",
              "\n",
              "   AnalysisArea ID sourceCountry  ENRICH_FID  \\\n",
              "0      6.104119  0            US           1   \n",
              "1     16.182483  1            US           2   \n",
              "2      0.494845  2            US           3   \n",
              "3     13.385917  3            US           4   \n",
              "4     13.884481  4            US           5   \n",
              "\n",
              "                   aggregationMethod  populationToPolygonSizeRating  \\\n",
              "0  BlockApportionment:US.BlockGroups                          2.191   \n",
              "1  BlockApportionment:US.BlockGroups                          2.191   \n",
              "2  BlockApportionment:US.BlockGroups                          2.191   \n",
              "3  BlockApportionment:US.BlockGroups                          2.191   \n",
              "4  BlockApportionment:US.BlockGroups                          2.191   \n",
              "\n",
              "   apportionmentConfidence  HasData          TSEGNAME  \\\n",
              "0                    2.576        1       City Lights   \n",
              "1                    2.576        1  NeWest Residents   \n",
              "2                    2.576        1        Urban Chic   \n",
              "3                    2.576        1     Metro Renters   \n",
              "4                    2.576        1          Top Tier   \n",
              "\n",
              "                                               SHAPE  \n",
              "0  {\"rings\": [[[-77.026627, 38.9845580000001], [-...  \n",
              "1  {\"rings\": [[[-76.9414389999999, 39.02912600000...  \n",
              "2  {\"rings\": [[[-77.13843, 38.9684140000001], [-7...  \n",
              "3  {\"rings\": [[[-77.094363, 39.0225080000001], [-...  \n",
              "4  {\"rings\": [[[-77.0635971999999, 39.0119754], [...  "
            ]
          },
          "metadata": {
            "tags": []
          },
          "execution_count": 28
        }
      ]
    },
    {
      "cell_type": "code",
      "metadata": {
        "id": "C7N3E5QxNV12"
      },
      "source": [
        "enrich_aggregate_map = gis.map('Maryland')"
      ],
      "execution_count": null,
      "outputs": []
    },
    {
      "cell_type": "code",
      "metadata": {
        "colab": {
          "referenced_widgets": [
            "d48d317f9adf4ef79af7626b31a00d61"
          ]
        },
        "id": "Ucd-3HSENV12",
        "outputId": "1404ecd5-bec3-4331-f121-b5b6e63962a4"
      },
      "source": [
        "enrich_aggregate_map"
      ],
      "execution_count": null,
      "outputs": [
        {
          "output_type": "display_data",
          "data": {
            "application/vnd.jupyter.widget-view+json": {
              "model_id": "d48d317f9adf4ef79af7626b31a00d61",
              "version_major": 2,
              "version_minor": 0
            },
            "text/plain": [
              "MapView(layout=Layout(height='400px', width='100%'))"
            ]
          },
          "metadata": {
            "tags": []
          }
        },
        {
          "output_type": "display_data",
          "data": {
            "text/html": [
              "<div class=\"map-static-img-preview-fade7364-8260-4fb9-aed4-e54ffcdeaf39\"><img src=\"\"></img></div>"
            ],
            "text/plain": [
              "<IPython.core.display.HTML object>"
            ]
          },
          "metadata": {
            "tags": []
          }
        },
        {
          "output_type": "display_data",
          "data": {
            "text/html": [
              "<div class=\"map-html-embed-preview-fade7364-8260-4fb9-aed4-e54ffcdeaf39\"></div>"
            ],
            "text/plain": [
              "<IPython.core.display.HTML object>"
            ]
          },
          "metadata": {
            "tags": []
          }
        }
      ]
    },
    {
      "cell_type": "code",
      "metadata": {
        "id": "RgMJTGzcNV12",
        "outputId": "19308a5b-ab8f-41d3-a19d-a860f5fe1666"
      },
      "source": [
        "sdf.spatial.plot(kind='map', map_widget=enrich_aggregate_map,\n",
        "        renderer_type='u',\n",
        "        col='TSEGNAME')"
      ],
      "execution_count": null,
      "outputs": [
        {
          "output_type": "execute_result",
          "data": {
            "text/plain": [
              "True"
            ]
          },
          "metadata": {
            "tags": []
          },
          "execution_count": 31
        }
      ]
    },
    {
      "cell_type": "markdown",
      "metadata": {
        "id": "aA6nMP6QOZBm"
      },
      "source": [
        "\n",
        "Click some of the ZIP Codes.\n",
        "\n",
        "The Tapestry segment is displayed when you click a ZIP Code. The Tapestry segments have names such as Enterprising Professionals and Savvy Suburbanites. You can look up more information about each segment, including its specific demographic characteristics, on the Tapestry Segmentation help page.\n",
        "\n",
        "What Tapestry segment is dominant for the Clarksburg ZIP Code where major growth occurred? Click the Clarksburg ZIP Code to find out. According to the pop-up, Boomburbs is the dominant Tapestry segment for the ZIP Code. Boomburbs have many young professionals with families living in affordable new housing. This description may explain why the area saw such rapid residential growth in 2011. It's possible that other ZIP Codes with similar demographic profiles may experience rapid growth in the near future.\n",
        "\n",
        "Click the ZIP Code directly southwest of Clarksburg.\n",
        "\n",
        "This ZIP Code is in Boyds. It also has the Boomburbs Tapestry segment. However, its number of permits has been relatively low since 2010. The county may be able to anticipate a similar spike in permit activity in this area.\n",
        "\n",
        "Although Tapestry segments are based on several demographic characteristics, you could also perform this analysis with other variables. For instance, you could determine if there is a correlation between high permit activity and high population growth. Is a young population or a high income level a stronger indicator of growth? You can answer these questions and others with the analysis tools at your disposal. For the purposes of this lesson, however, your results are satisfactory."
      ]
    },
    {
      "cell_type": "markdown",
      "metadata": {
        "id": "NhBUqAe0OY9O"
      },
      "source": [
        ""
      ]
    },
    {
      "cell_type": "code",
      "metadata": {
        "id": "DHm4b-vzNV12"
      },
      "source": [
        "enrich_aggregate_map.add_layer(agg_lyr, {'renderer':'ClassedSizeRenderer',\n",
        "                                             'field_name':'POPULATION',\n",
        "                                             'opacity':0.75})"
      ],
      "execution_count": null,
      "outputs": []
    },
    {
      "cell_type": "markdown",
      "metadata": {
        "id": "h2ND60IROfKU"
      },
      "source": [
        "\n",
        "In this notebook, we used ArcGIS API for Python to explore and analyze permit data for Montgomery County, Maryland. You answered questions about your data's spatial and temporal trends and located areas of the county with rapid growth. We compared your findings with demographic data, came to conclusions about the possible causes of growth, and even predicted an area that may experience similar growth in the future based on shared demographic characteristics. With ArcGIS API for Python, we can perform a similar workflow on any of your data to better understand what it contains and what questions it can answer."
      ]
    }
  ]
}