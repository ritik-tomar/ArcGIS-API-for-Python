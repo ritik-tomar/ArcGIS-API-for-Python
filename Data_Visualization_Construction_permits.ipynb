{
  "nbformat": 4,
  "nbformat_minor": 0,
  "metadata": {
    "esriNotebookRuntime": {
      "notebookRuntimeName": "ArcGIS Notebook Python 3 Standard",
      "notebookRuntimeVersion": "5.0"
    },
    "kernelspec": {
      "display_name": "Python 3",
      "language": "python",
      "name": "python3"
    },
    "language_info": {
      "codemirror_mode": {
        "name": "ipython",
        "version": 3
      },
      "file_extension": ".py",
      "mimetype": "text/x-python",
      "name": "python",
      "nbconvert_exporter": "python",
      "pygments_lexer": "ipython3",
      "version": "3.7.9"
    },
    "colab": {
      "name": "Data_Visualization_Construction_permits.ipynb",
      "provenance": []
    }
  },
  "cells": [
    {
      "cell_type": "markdown",
      "metadata": {
        "id": "RlshAfgcOo0W"
      },
      "source": [
        "#**Overview**\n",
        "\n",
        "One indicator of a region's growth is the number of permits issued for new construction. Exploring and analyzing permit activity can help regional planners ensure that development occurs in accordance to the area's long-term goals. One area that has recently experienced rapid growth is Montgomery County, Maryland, a suburban county near Washington, D.C. County planners want to observe spatial and temporal growth trends, find out why certain areas are growing faster than others, and communicate key information about the county's growth to the public.\n",
        "\n",
        "In this notebook, you'll explore Montgomery County permit data. First, you'll add the permit data from ArcGIS Living Atlas of the World. You'll explore the data and become familiar with exactly what kind of information it contains. Then, you'll analyze the data to detect patterns and find out why growth is occurring. Once you've gathered your findings from your exploration and analysis, you'll share your work online.\n",
        "\n",
        "#**Explore the data**\n",
        "\n",
        "Explore the data\n",
        "To better understand trends in permit activity in Montgomery County, you'll add a dataset of permits issued since 2010. Before you begin your analysis, however, it's important to explore your data and understand what it shows and does not show. You'll familiarize yourself with the data's attributes, sort the data by type, and visualize spatial and temporal trends. In doing so, you'll gain context for your analysis and know exactly which questions you still need to ask to find out why, where, and when growth is occurring.\n",
        "\n",
        "Connect to your ArcGIS online organization."
      ]
    },
    {
      "cell_type": "code",
      "metadata": {
        "id": "7dkHhJO4OmQO"
      },
      "source": [
        "from arcgis.gis import GIS\n",
        "import pandas as pd\n",
        "\n",
        "from arcgis.features import GeoAccessor, GeoSeriesAccessor"
      ],
      "execution_count": null,
      "outputs": []
    },
    {
      "cell_type": "code",
      "metadata": {
        "id": "GSqVRu6YOmQR"
      },
      "source": [
        "agol_gis = GIS()"
      ],
      "execution_count": null,
      "outputs": []
    },
    {
      "cell_type": "markdown",
      "metadata": {
        "id": "Nf8k3clCO_D4"
      },
      "source": [
        "Search for the Commercial Permits since 2010 layer. You can specify the owner's name to get more specific results. To search for content from the Living Atlas, or content shared by other users on ArcGIS Online, set outside_org=True."
      ]
    },
    {
      "cell_type": "code",
      "metadata": {
        "id": "ArDN-P8QOmQS",
        "outputId": "cd1e8a01-316d-46ad-9977-fda9c4e659c7"
      },
      "source": [
        "data = agol_gis.content.search('title: Commercial Permits since 2010 owner: rpeake_LearnGIS', 'Feature layer', \n",
        "                               outside_org=True)\n",
        "data[0]"
      ],
      "execution_count": null,
      "outputs": [
        {
          "output_type": "execute_result",
          "data": {
            "text/html": [
              "<div class=\"item_container\" style=\"height: auto; overflow: hidden; border: 1px solid #cfcfcf; border-radius: 2px; background: #f6fafa; line-height: 1.21429em; padding: 10px;\">\n",
              "                    <div class=\"item_left\" style=\"width: 210px; float: left;\">\n",
              "                       <a href='https://www.arcgis.com/home/item.html?id=1923d4e74ac947dab4f8c94d2c2a7a9c' target='_blank'>\n",
              "                        <img src='https://www.arcgis.com/sharing/rest//content/items/1923d4e74ac947dab4f8c94d2c2a7a9c/info/thumbnail/thumbnail.png' class=\"itemThumbnail\">\n",
              "                       </a>\n",
              "                    </div>\n",
              "\n",
              "                    <div class=\"item_right\"     style=\"float: none; width: auto; overflow: hidden;\">\n",
              "                        <a href='https://www.arcgis.com/home/item.html?id=1923d4e74ac947dab4f8c94d2c2a7a9c' target='_blank'><b>Commercial Permits since 2010</b>\n",
              "                        </a>\n",
              "                        <br/>Commercial building permits issued in Montgomery County, Maryland, since 2010.<img src='https://www.arcgis.com/home/js/jsapi/esri/css/images/item_type_icons/featureshosted16.png' style=\"vertical-align:middle;\">Feature Layer Collection by rpeake_LearnGIS\n",
              "                        <br/>Last Modified: December 08, 2017\n",
              "                        <br/>0 comments, 1,325 views\n",
              "                    </div>\n",
              "                </div>\n",
              "                "
            ],
            "text/plain": [
              "<Item title:\"Commercial Permits since 2010\" type:Feature Layer Collection owner:rpeake_LearnGIS>"
            ]
          },
          "metadata": {
            "tags": []
          },
          "execution_count": 38
        }
      ]
    },
    {
      "cell_type": "markdown",
      "metadata": {
        "id": "Lb6fnKIQO5S3"
      },
      "source": [
        "Get the first item from the results."
      ]
    },
    {
      "cell_type": "code",
      "metadata": {
        "id": "xkRdj07XOmQT"
      },
      "source": [
        "permits = data[0]"
      ],
      "execution_count": null,
      "outputs": []
    },
    {
      "cell_type": "markdown",
      "metadata": {
        "id": "jQCt10u2PDUL"
      },
      "source": [
        "\n",
        "Since the item is a Feature Layer Collection, accessing the layers property gives us a list of FeatureLayer objects. The permit layer is the first layer in this item. Visualize this layer on a map of Montgomery County, Maryland."
      ]
    },
    {
      "cell_type": "code",
      "metadata": {
        "id": "Mfln-HJaOmQV"
      },
      "source": [
        "permit_layer = permits.layers[0]"
      ],
      "execution_count": null,
      "outputs": []
    },
    {
      "cell_type": "code",
      "metadata": {
        "colab": {
          "referenced_widgets": [
            "ec5b53f666e84cc8b1a2a28fd2e90389"
          ]
        },
        "id": "cmCHY0l7OmQV",
        "outputId": "c486e576-52a3-4bc1-d41e-78844fedb10b"
      },
      "source": [
        "permit_map = agol_gis.map('Montgomery County, Maryland', zoomlevel=9)\n",
        "permit_map"
      ],
      "execution_count": null,
      "outputs": [
        {
          "output_type": "display_data",
          "data": {
            "application/vnd.jupyter.widget-view+json": {
              "model_id": "ec5b53f666e84cc8b1a2a28fd2e90389",
              "version_major": 2,
              "version_minor": 0
            },
            "text/plain": [
              "MapView(layout=Layout(height='400px', width='100%'))"
            ]
          },
          "metadata": {
            "tags": []
          }
        },
        {
          "output_type": "display_data",
          "data": {
            "text/html": [
              "<div class=\"map-static-img-preview-daf93df3-7302-4119-8b55-140d66c6d668\"><img src=\"\"></img></div>"
            ],
            "text/plain": [
              "<IPython.core.display.HTML object>"
            ]
          },
          "metadata": {
            "tags": []
          }
        },
        {
          "output_type": "display_data",
          "data": {
            "text/html": [
              "<div class=\"map-html-embed-preview-daf93df3-7302-4119-8b55-140d66c6d668\"></div>"
            ],
            "text/plain": [
              "<IPython.core.display.HTML object>"
            ]
          },
          "metadata": {
            "tags": []
          }
        }
      ]
    },
    {
      "cell_type": "markdown",
      "metadata": {
        "id": "M0H2qvaWPIvg"
      },
      "source": [
        "\n",
        "You can add a number of different layer objects such as FeatureLayer, FeatureCollection, ImageryLayer, MapImageLayer to the map by calling the add_layer() method."
      ]
    },
    {
      "cell_type": "code",
      "metadata": {
        "id": "P7S-mR4uOmQW"
      },
      "source": [
        "permit_map.add_layer(permit_layer)"
      ],
      "execution_count": null,
      "outputs": []
    },
    {
      "cell_type": "markdown",
      "metadata": {
        "id": "oIrnaw9YPLwS"
      },
      "source": [
        "#**Data Exploration**\n",
        "Now that you've added the permit data, you'll explore its contents. Geographic data doesn't only contain information about location; it can also include other attributes not seen on a map.\n",
        "\n",
        "Convert the layer into a spatially-enabled dataframe to explore these attributes."
      ]
    },
    {
      "cell_type": "code",
      "metadata": {
        "id": "t--jbVOiOmQY",
        "outputId": "aeb1c3b0-4318-43b8-e5fd-e1d9ce8a29c6"
      },
      "source": [
        "permit_layer"
      ],
      "execution_count": null,
      "outputs": [
        {
          "output_type": "execute_result",
          "data": {
            "text/plain": [
              "<FeatureLayer url:\"https://services2.arcgis.com/j80Jz20at6Bi0thr/arcgis/rest/services/Commercial_Permits_since_2010/FeatureServer/0\">"
            ]
          },
          "metadata": {
            "tags": []
          },
          "execution_count": 44
        }
      ]
    },
    {
      "cell_type": "code",
      "metadata": {
        "id": "ErKrKBGLOmQY"
      },
      "source": [
        "sdf = pd.DataFrame.spatial.from_layer(permit_layer)"
      ],
      "execution_count": null,
      "outputs": []
    },
    {
      "cell_type": "markdown",
      "metadata": {
        "id": "WM-qsupBPStC"
      },
      "source": [
        "tail() method gives the last 5 rows of the dataframe."
      ]
    },
    {
      "cell_type": "code",
      "metadata": {
        "id": "DZS6ymVEOmQZ",
        "outputId": "7bb588eb-6cbe-4d03-fa3f-895499b1891d"
      },
      "source": [
        "sdf.tail()"
      ],
      "execution_count": null,
      "outputs": [
        {
          "output_type": "execute_result",
          "data": {
            "text/html": [
              "<div>\n",
              "<style scoped>\n",
              "    .dataframe tbody tr th:only-of-type {\n",
              "        vertical-align: middle;\n",
              "    }\n",
              "\n",
              "    .dataframe tbody tr th {\n",
              "        vertical-align: top;\n",
              "    }\n",
              "\n",
              "    .dataframe thead th {\n",
              "        text-align: right;\n",
              "    }\n",
              "</style>\n",
              "<table border=\"1\" class=\"dataframe\">\n",
              "  <thead>\n",
              "    <tr style=\"text-align: right;\">\n",
              "      <th></th>\n",
              "      <th>Added_Date</th>\n",
              "      <th>Address</th>\n",
              "      <th>Applicatio</th>\n",
              "      <th>BldgAreaNu</th>\n",
              "      <th>Building_A</th>\n",
              "      <th>City</th>\n",
              "      <th>DeclValNu</th>\n",
              "      <th>DeclValNu2</th>\n",
              "      <th>Declared_V</th>\n",
              "      <th>Descriptio</th>\n",
              "      <th>...</th>\n",
              "      <th>Pre_direct</th>\n",
              "      <th>SHAPE</th>\n",
              "      <th>State</th>\n",
              "      <th>Status</th>\n",
              "      <th>Street_Nam</th>\n",
              "      <th>Street_Num</th>\n",
              "      <th>Street_Suf</th>\n",
              "      <th>Use_Code</th>\n",
              "      <th>Work_Type</th>\n",
              "      <th>ZIP_code</th>\n",
              "    </tr>\n",
              "  </thead>\n",
              "  <tbody>\n",
              "    <tr>\n",
              "      <th>11219</th>\n",
              "      <td>2014-01-31</td>\n",
              "      <td>1015 SPRING ST</td>\n",
              "      <td>COMMERCIAL BUILDING</td>\n",
              "      <td>707.91</td>\n",
              "      <td>707.91</td>\n",
              "      <td>SILVER SPRING</td>\n",
              "      <td>42000.0</td>\n",
              "      <td>42000.0</td>\n",
              "      <td>$42,000.00</td>\n",
              "      <td>Silver Spring Enterprise Zone\\n\\nAdd exterior ...</td>\n",
              "      <td>...</td>\n",
              "      <td></td>\n",
              "      <td>{\"x\": -8574668.7047, \"y\": 4721607.997599997, \"...</td>\n",
              "      <td>MD</td>\n",
              "      <td>Stop Work</td>\n",
              "      <td>SPRING</td>\n",
              "      <td>1015</td>\n",
              "      <td>ST</td>\n",
              "      <td>BUSINESS BUILDING</td>\n",
              "      <td>ADD</td>\n",
              "      <td>20910</td>\n",
              "    </tr>\n",
              "    <tr>\n",
              "      <th>11220</th>\n",
              "      <td>2014-02-11</td>\n",
              "      <td>26100 WOODFIELD RD</td>\n",
              "      <td>COMMERCIAL BUILDING</td>\n",
              "      <td>0.00</td>\n",
              "      <td>0</td>\n",
              "      <td>DAMASCUS</td>\n",
              "      <td>5875.0</td>\n",
              "      <td>5875.0</td>\n",
              "      <td>$5,875.00</td>\n",
              "      <td>PYLON SIGN</td>\n",
              "      <td>...</td>\n",
              "      <td></td>\n",
              "      <td>{\"x\": -8594080.2264, \"y\": 4762636.6635000035, ...</td>\n",
              "      <td>MD</td>\n",
              "      <td>Stop Work</td>\n",
              "      <td>WOODFIELD</td>\n",
              "      <td>26100</td>\n",
              "      <td>RD</td>\n",
              "      <td>BUSINESS BUILDING</td>\n",
              "      <td>CONSTRUCT</td>\n",
              "      <td>20872</td>\n",
              "    </tr>\n",
              "    <tr>\n",
              "      <th>11221</th>\n",
              "      <td>2014-02-20</td>\n",
              "      <td>10520 MONTROSE AVE</td>\n",
              "      <td>COMMERCIAL BUILDING</td>\n",
              "      <td>728.00</td>\n",
              "      <td>728</td>\n",
              "      <td>BETHESDA</td>\n",
              "      <td>31000.0</td>\n",
              "      <td>31000.0</td>\n",
              "      <td>$31,000.00</td>\n",
              "      <td>Remodeling a one story building with walk-out ...</td>\n",
              "      <td>...</td>\n",
              "      <td></td>\n",
              "      <td>{\"x\": -8582314.4798, \"y\": 4725770.635600001, \"...</td>\n",
              "      <td>MD</td>\n",
              "      <td>Stop Work</td>\n",
              "      <td>MONTROSE</td>\n",
              "      <td>10520</td>\n",
              "      <td>AVE</td>\n",
              "      <td>ASSEMBLY BUILDING</td>\n",
              "      <td>ADD</td>\n",
              "      <td>20814</td>\n",
              "    </tr>\n",
              "    <tr>\n",
              "      <th>11222</th>\n",
              "      <td>2014-03-06</td>\n",
              "      <td>8500 RIVER RD</td>\n",
              "      <td>COMMERCIAL BUILDING</td>\n",
              "      <td>472.02</td>\n",
              "      <td>472.02</td>\n",
              "      <td>BETHESDA</td>\n",
              "      <td>1000.0</td>\n",
              "      <td>1000.0</td>\n",
              "      <td>$1,000.00</td>\n",
              "      <td>TOTAL OF 17 GROUPED TENTS FOR 2014 QUICKEN LOA...</td>\n",
              "      <td>...</td>\n",
              "      <td></td>\n",
              "      <td>{\"x\": -8591206.0439, \"y\": 4721680.315399997, \"...</td>\n",
              "      <td>MD</td>\n",
              "      <td>Stop Work</td>\n",
              "      <td>RIVER</td>\n",
              "      <td>8500</td>\n",
              "      <td>RD</td>\n",
              "      <td>COMMERCIAL MISCELLANEOUS STRUC</td>\n",
              "      <td>CONSTRUCT</td>\n",
              "      <td>20817</td>\n",
              "    </tr>\n",
              "    <tr>\n",
              "      <th>11223</th>\n",
              "      <td>2014-03-10</td>\n",
              "      <td>8500 RIVER RD</td>\n",
              "      <td>COMMERCIAL BUILDING</td>\n",
              "      <td>8461.55</td>\n",
              "      <td>8461.55</td>\n",
              "      <td>BETHESDA</td>\n",
              "      <td>1.0</td>\n",
              "      <td>1.0</td>\n",
              "      <td>$1.00</td>\n",
              "      <td>1 GRANDSTAND &amp; MULTIPLE PLATFORMS FOR 2014 QUI...</td>\n",
              "      <td>...</td>\n",
              "      <td></td>\n",
              "      <td>{\"x\": -8591206.0439, \"y\": 4721680.315399997, \"...</td>\n",
              "      <td>MD</td>\n",
              "      <td>Stop Work</td>\n",
              "      <td>RIVER</td>\n",
              "      <td>8500</td>\n",
              "      <td>RD</td>\n",
              "      <td>COMMERCIAL MISCELLANEOUS STRUC</td>\n",
              "      <td>CONSTRUCT</td>\n",
              "      <td>20817</td>\n",
              "    </tr>\n",
              "  </tbody>\n",
              "</table>\n",
              "<p>5 rows × 26 columns</p>\n",
              "</div>"
            ],
            "text/plain": [
              "      Added_Date             Address           Applicatio  BldgAreaNu  \\\n",
              "11219 2014-01-31      1015 SPRING ST  COMMERCIAL BUILDING      707.91   \n",
              "11220 2014-02-11  26100 WOODFIELD RD  COMMERCIAL BUILDING        0.00   \n",
              "11221 2014-02-20  10520 MONTROSE AVE  COMMERCIAL BUILDING      728.00   \n",
              "11222 2014-03-06       8500 RIVER RD  COMMERCIAL BUILDING      472.02   \n",
              "11223 2014-03-10       8500 RIVER RD  COMMERCIAL BUILDING     8461.55   \n",
              "\n",
              "      Building_A           City  DeclValNu  DeclValNu2  Declared_V  \\\n",
              "11219     707.91  SILVER SPRING    42000.0     42000.0  $42,000.00   \n",
              "11220          0       DAMASCUS     5875.0      5875.0   $5,875.00   \n",
              "11221        728       BETHESDA    31000.0     31000.0  $31,000.00   \n",
              "11222     472.02       BETHESDA     1000.0      1000.0   $1,000.00   \n",
              "11223    8461.55       BETHESDA        1.0         1.0       $1.00   \n",
              "\n",
              "                                              Descriptio  ...  Pre_direct  \\\n",
              "11219  Silver Spring Enterprise Zone\\n\\nAdd exterior ...  ...               \n",
              "11220                                         PYLON SIGN  ...               \n",
              "11221  Remodeling a one story building with walk-out ...  ...               \n",
              "11222  TOTAL OF 17 GROUPED TENTS FOR 2014 QUICKEN LOA...  ...               \n",
              "11223  1 GRANDSTAND & MULTIPLE PLATFORMS FOR 2014 QUI...  ...               \n",
              "\n",
              "                                                   SHAPE State     Status  \\\n",
              "11219  {\"x\": -8574668.7047, \"y\": 4721607.997599997, \"...    MD  Stop Work   \n",
              "11220  {\"x\": -8594080.2264, \"y\": 4762636.6635000035, ...    MD  Stop Work   \n",
              "11221  {\"x\": -8582314.4798, \"y\": 4725770.635600001, \"...    MD  Stop Work   \n",
              "11222  {\"x\": -8591206.0439, \"y\": 4721680.315399997, \"...    MD  Stop Work   \n",
              "11223  {\"x\": -8591206.0439, \"y\": 4721680.315399997, \"...    MD  Stop Work   \n",
              "\n",
              "       Street_Nam Street_Num Street_Suf                        Use_Code  \\\n",
              "11219      SPRING       1015         ST               BUSINESS BUILDING   \n",
              "11220   WOODFIELD      26100         RD               BUSINESS BUILDING   \n",
              "11221    MONTROSE      10520        AVE               ASSEMBLY BUILDING   \n",
              "11222       RIVER       8500         RD  COMMERCIAL MISCELLANEOUS STRUC   \n",
              "11223       RIVER       8500         RD  COMMERCIAL MISCELLANEOUS STRUC   \n",
              "\n",
              "       Work_Type ZIP_code  \n",
              "11219        ADD    20910  \n",
              "11220  CONSTRUCT    20872  \n",
              "11221        ADD    20814  \n",
              "11222  CONSTRUCT    20817  \n",
              "11223  CONSTRUCT    20817  \n",
              "\n",
              "[5 rows x 26 columns]"
            ]
          },
          "metadata": {
            "tags": []
          },
          "execution_count": 46
        }
      ]
    },
    {
      "cell_type": "markdown",
      "metadata": {
        "id": "3tZ9pIQkPYZ3"
      },
      "source": [
        "The permit data contains a long list of attributes. Some attributes have self-explanatory names, while others may have names that can be difficult to understand without context. The list of attributes can be obtained using the columns of the dataframe."
      ]
    },
    {
      "cell_type": "code",
      "metadata": {
        "id": "BwojxXmLOmQa",
        "outputId": "27e59e05-6d95-46aa-8ca2-32fe5cba184c"
      },
      "source": [
        "sdf.columns"
      ],
      "execution_count": null,
      "outputs": [
        {
          "output_type": "execute_result",
          "data": {
            "text/plain": [
              "Index(['Added_Date', 'Address', 'Applicatio', 'BldgAreaNu', 'Building_A',\n",
              "       'City', 'DeclValNu', 'DeclValNu2', 'Declared_V', 'Descriptio', 'FID',\n",
              "       'Final_Date', 'Issue_Date', 'Location', 'Permit_Num', 'Post_direc',\n",
              "       'Pre_direct', 'SHAPE', 'State', 'Status', 'Street_Nam', 'Street_Num',\n",
              "       'Street_Suf', 'Use_Code', 'Work_Type', 'ZIP_code'],\n",
              "      dtype='object')"
            ]
          },
          "metadata": {
            "tags": []
          },
          "execution_count": 47
        }
      ]
    },
    {
      "cell_type": "code",
      "metadata": {
        "id": "Js4D4VVMOmQa",
        "outputId": "94068bbd-ce66-410b-fd0d-b46c12fc53f5"
      },
      "source": [
        "sdf.describe().T"
      ],
      "execution_count": null,
      "outputs": [
        {
          "output_type": "execute_result",
          "data": {
            "text/html": [
              "<div>\n",
              "<style scoped>\n",
              "    .dataframe tbody tr th:only-of-type {\n",
              "        vertical-align: middle;\n",
              "    }\n",
              "\n",
              "    .dataframe tbody tr th {\n",
              "        vertical-align: top;\n",
              "    }\n",
              "\n",
              "    .dataframe thead th {\n",
              "        text-align: right;\n",
              "    }\n",
              "</style>\n",
              "<table border=\"1\" class=\"dataframe\">\n",
              "  <thead>\n",
              "    <tr style=\"text-align: right;\">\n",
              "      <th></th>\n",
              "      <th>count</th>\n",
              "      <th>mean</th>\n",
              "      <th>std</th>\n",
              "      <th>min</th>\n",
              "      <th>25%</th>\n",
              "      <th>50%</th>\n",
              "      <th>75%</th>\n",
              "      <th>max</th>\n",
              "    </tr>\n",
              "  </thead>\n",
              "  <tbody>\n",
              "    <tr>\n",
              "      <th>BldgAreaNu</th>\n",
              "      <td>11224.0</td>\n",
              "      <td>9241.778777</td>\n",
              "      <td>3.950484e+04</td>\n",
              "      <td>0.0</td>\n",
              "      <td>255.00</td>\n",
              "      <td>1537.0</td>\n",
              "      <td>4000.00</td>\n",
              "      <td>1.548205e+06</td>\n",
              "    </tr>\n",
              "    <tr>\n",
              "      <th>DeclValNu</th>\n",
              "      <td>11224.0</td>\n",
              "      <td>784736.035620</td>\n",
              "      <td>1.152229e+07</td>\n",
              "      <td>0.0</td>\n",
              "      <td>20000.00</td>\n",
              "      <td>74000.0</td>\n",
              "      <td>200000.00</td>\n",
              "      <td>1.129634e+09</td>\n",
              "    </tr>\n",
              "    <tr>\n",
              "      <th>DeclValNu2</th>\n",
              "      <td>11224.0</td>\n",
              "      <td>784736.035620</td>\n",
              "      <td>1.152229e+07</td>\n",
              "      <td>0.0</td>\n",
              "      <td>20000.00</td>\n",
              "      <td>74000.0</td>\n",
              "      <td>200000.00</td>\n",
              "      <td>1.129634e+09</td>\n",
              "    </tr>\n",
              "    <tr>\n",
              "      <th>FID</th>\n",
              "      <td>11224.0</td>\n",
              "      <td>5612.500000</td>\n",
              "      <td>3.240234e+03</td>\n",
              "      <td>1.0</td>\n",
              "      <td>2806.75</td>\n",
              "      <td>5612.5</td>\n",
              "      <td>8418.25</td>\n",
              "      <td>1.122400e+04</td>\n",
              "    </tr>\n",
              "    <tr>\n",
              "      <th>Permit_Num</th>\n",
              "      <td>11224.0</td>\n",
              "      <td>655806.112794</td>\n",
              "      <td>7.759285e+04</td>\n",
              "      <td>528631.0</td>\n",
              "      <td>587437.50</td>\n",
              "      <td>652073.5</td>\n",
              "      <td>722003.25</td>\n",
              "      <td>7.961930e+05</td>\n",
              "    </tr>\n",
              "    <tr>\n",
              "      <th>ZIP_code</th>\n",
              "      <td>11224.0</td>\n",
              "      <td>20848.988863</td>\n",
              "      <td>5.581882e+02</td>\n",
              "      <td>0.0</td>\n",
              "      <td>20832.00</td>\n",
              "      <td>20871.0</td>\n",
              "      <td>20901.00</td>\n",
              "      <td>2.177100e+04</td>\n",
              "    </tr>\n",
              "  </tbody>\n",
              "</table>\n",
              "</div>"
            ],
            "text/plain": [
              "              count           mean           std       min        25%  \\\n",
              "BldgAreaNu  11224.0    9241.778777  3.950484e+04       0.0     255.00   \n",
              "DeclValNu   11224.0  784736.035620  1.152229e+07       0.0   20000.00   \n",
              "DeclValNu2  11224.0  784736.035620  1.152229e+07       0.0   20000.00   \n",
              "FID         11224.0    5612.500000  3.240234e+03       1.0    2806.75   \n",
              "Permit_Num  11224.0  655806.112794  7.759285e+04  528631.0  587437.50   \n",
              "ZIP_code    11224.0   20848.988863  5.581882e+02       0.0   20832.00   \n",
              "\n",
              "                 50%        75%           max  \n",
              "BldgAreaNu    1537.0    4000.00  1.548205e+06  \n",
              "DeclValNu    74000.0  200000.00  1.129634e+09  \n",
              "DeclValNu2   74000.0  200000.00  1.129634e+09  \n",
              "FID           5612.5    8418.25  1.122400e+04  \n",
              "Permit_Num  652073.5  722003.25  7.961930e+05  \n",
              "ZIP_code     20871.0   20901.00  2.177100e+04  "
            ]
          },
          "metadata": {
            "tags": []
          },
          "execution_count": 48
        }
      ]
    },
    {
      "cell_type": "markdown",
      "metadata": {
        "id": "jWf0iu6JPdSh"
      },
      "source": [
        "Query the types of attributes and explore the data."
      ]
    },
    {
      "cell_type": "code",
      "metadata": {
        "id": "KgoDVw15OmQb",
        "outputId": "4b1d646c-30e5-4ae5-a1a0-70c9efa42697"
      },
      "source": [
        "sdf.dtypes"
      ],
      "execution_count": null,
      "outputs": [
        {
          "output_type": "execute_result",
          "data": {
            "text/plain": [
              "Added_Date    datetime64[ns]\n",
              "Address               object\n",
              "Applicatio            object\n",
              "BldgAreaNu           float64\n",
              "Building_A            object\n",
              "City                  object\n",
              "DeclValNu            float64\n",
              "DeclValNu2           float64\n",
              "Declared_V            object\n",
              "Descriptio            object\n",
              "FID                    int64\n",
              "Final_Date    datetime64[ns]\n",
              "Issue_Date    datetime64[ns]\n",
              "Location              object\n",
              "Permit_Num             int64\n",
              "Post_direc            object\n",
              "Pre_direct            object\n",
              "SHAPE               geometry\n",
              "State                 object\n",
              "Status                object\n",
              "Street_Nam            object\n",
              "Street_Num            object\n",
              "Street_Suf            object\n",
              "Use_Code              object\n",
              "Work_Type             object\n",
              "ZIP_code               int64\n",
              "dtype: object"
            ]
          },
          "metadata": {
            "tags": []
          },
          "execution_count": 49
        }
      ]
    },
    {
      "cell_type": "code",
      "metadata": {
        "id": "ZYbiw1UlOmQb",
        "outputId": "a5f8f3a9-3b63-4f7a-f2e0-2afc07623698"
      },
      "source": [
        "sdf['Work_Type'].unique()"
      ],
      "execution_count": null,
      "outputs": [
        {
          "output_type": "execute_result",
          "data": {
            "text/plain": [
              "array(['CONSTRUCT', 'ALTER', 'COMMERCIAL CHANGE OF USE', 'RESTORE AND / OR REPAIR', 'ADD', 'BUILD FOUNDATION',\n",
              "       'INSTALL', 'REPLACE', 'CONSTRUCT SHEETING/SHORING', 'FINAL ONLY AP', 'REMOVE AND REPLACE', 'OCCUPY', 'DEMOLISH'],\n",
              "      dtype=object)"
            ]
          },
          "metadata": {
            "tags": []
          },
          "execution_count": 50
        }
      ]
    },
    {
      "cell_type": "code",
      "metadata": {
        "id": "ZKhPYnsXOmQc",
        "outputId": "c3afc45e-9e58-4fbf-fd81-60ee8ceb7ebf"
      },
      "source": [
        "sdf['Status'].unique()"
      ],
      "execution_count": null,
      "outputs": [
        {
          "output_type": "execute_result",
          "data": {
            "text/plain": [
              "array(['Finaled', 'Issued', 'Open', 'Stop Work'], dtype=object)"
            ]
          },
          "metadata": {
            "tags": []
          },
          "execution_count": 51
        }
      ]
    },
    {
      "cell_type": "code",
      "metadata": {
        "id": "2hEhvQpVOmQc",
        "outputId": "9c4c607a-c4a5-4b91-d118-cf177c2d6a5b"
      },
      "source": [
        "sdf['Use_Code'].unique()"
      ],
      "execution_count": null,
      "outputs": [
        {
          "output_type": "execute_result",
          "data": {
            "text/plain": [
              "array(['MULTI-FAMILY DWELLING', 'RESTAURANT', 'BUSINESS BUILDING', 'MERCANTILE BUILDING', 'PLACE OF WORSHIP',\n",
              "       'ASSEMBLY BUILDING', 'STORAGE BUILDING', 'GARAGE', 'INSTITUTIONAL BUILDING', 'COMMERCIAL MISCELLANEOUS STRUC',\n",
              "       'INDUSTRIAL BUILDING', 'EDUCATIONAL BUILDING', 'TOWER', 'SWIMMING POOL', 'FENCE', 'BANK', 'SHED',\n",
              "       'MULTI-FAMILY SENIOR CITIZEN BL', 'RETAINING WALL', 'TRAILER', 'HOSPITAL', 'BIOSCIENCE', 'TOWNHOUSE', 'HOTEL',\n",
              "       'FACTORY', 'BOARDING HOUSE', 'SWIMMING POOL & FENCE', 'UTILITY, MISCELLANEOUS', 'THEATER',\n",
              "       'MULTIFAMILY DWELLING HIGH RISE', 'MULTIFAMILY DWELLING LOW RISE', 'MISCELLANEOUS STRUCTURE', 'OWNERSHIP UNIT'],\n",
              "      dtype=object)"
            ]
          },
          "metadata": {
            "tags": []
          },
          "execution_count": 52
        }
      ]
    },
    {
      "cell_type": "markdown",
      "metadata": {
        "id": "SAlK0C5EPgVO"
      },
      "source": [
        "#**Permits by Status**\n",
        "The groupby() method groups the rows per the column and does calculations, such as finding their counts, as shown in the following code."
      ]
    },
    {
      "cell_type": "code",
      "metadata": {
        "id": "-5E11WhPOmQc",
        "outputId": "562b5110-da0f-4b65-9210-9f9dcf6c3192"
      },
      "source": [
        "permits_by_status = sdf.groupby(sdf['Status']).size()\n",
        "permits_by_status"
      ],
      "execution_count": null,
      "outputs": [
        {
          "output_type": "execute_result",
          "data": {
            "text/plain": [
              "Status\n",
              "Finaled      5341\n",
              "Issued       4696\n",
              "Open          757\n",
              "Stop Work     430\n",
              "dtype: int64"
            ]
          },
          "metadata": {
            "tags": []
          },
          "execution_count": 53
        }
      ]
    },
    {
      "cell_type": "markdown",
      "metadata": {
        "id": "cAJ62iJFPl47"
      },
      "source": [
        "There are only four permit statuses: Issued, Finaled, Open, and Stop Work. To visualize the number of permits for each status, you'll create a pie chart.\n",
        "\n",
        "Since the dataframe attributes just show the count of status, you can consider any attribute to graph the status count."
      ]
    },
    {
      "cell_type": "code",
      "metadata": {
        "id": "EeckOCSYOmQd"
      },
      "source": [
        "%matplotlib inline\n",
        "import matplotlib.pyplot as plt"
      ],
      "execution_count": null,
      "outputs": []
    },
    {
      "cell_type": "code",
      "metadata": {
        "id": "NEopZf-_OmQd",
        "outputId": "dee1bc2d-d56c-4503-f9f1-b7afc3b4b450"
      },
      "source": [
        "plt.axis('equal') \n",
        "permits_by_status.plot(kind='pie', legend=False, label='Permits by Status');"
      ],
      "execution_count": null,
      "outputs": [
        {
          "output_type": "display_data",
          "data": {
            "image/png": "[encoded data removed]",
            "text/plain": [
              "<Figure size 432x288 with 1 Axes>"
            ]
          },
          "metadata": {
            "tags": []
          }
        }
      ]
    },
    {
      "cell_type": "markdown",
      "metadata": {
        "id": "dKsu_8luPooJ"
      },
      "source": [
        "\n",
        "The pie chart above shows the four permit statuses, with the size of each status determined by the number of permits. The vast majority of permits are either Issued or Finaled. Finaled permits are issued permits that have also had the requisite inspections performed.\n",
        "\n",
        "It's helpful to visualize the spatial distribution of permit attributes on a map. You'll change the map so that each permit's symbol represents its status."
      ]
    },
    {
      "cell_type": "code",
      "metadata": {
        "colab": {
          "referenced_widgets": [
            "2db2e0d7e8864bea82f260dc21327d4f"
          ]
        },
        "id": "AOLfRZvDOmQd",
        "outputId": "af8883e8-83c7-4b77-f9cb-581acdb5770f"
      },
      "source": [
        "permits_by_status_map = agol_gis.map('Montgomery County, Maryland')\n",
        "permits_by_status_map"
      ],
      "execution_count": null,
      "outputs": [
        {
          "output_type": "display_data",
          "data": {
            "application/vnd.jupyter.widget-view+json": {
              "model_id": "2db2e0d7e8864bea82f260dc21327d4f",
              "version_major": 2,
              "version_minor": 0
            },
            "text/plain": [
              "MapView(layout=Layout(height='400px', width='100%'))"
            ]
          },
          "metadata": {
            "tags": []
          }
        },
        {
          "output_type": "display_data",
          "data": {
            "text/html": [
              "<div class=\"map-static-img-preview-e6842583-9232-4b26-85fe-017cbf237b18\"><img src=\"\"></img></div>"
            ],
            "text/plain": [
              "<IPython.core.display.HTML object>"
            ]
          },
          "metadata": {
            "tags": []
          }
        },
        {
          "output_type": "display_data",
          "data": {
            "text/html": [
              "<div class=\"map-html-embed-preview-e6842583-9232-4b26-85fe-017cbf237b18\"></div>"
            ],
            "text/plain": [
              "<IPython.core.display.HTML object>"
            ]
          },
          "metadata": {
            "tags": []
          }
        }
      ]
    },
    {
      "cell_type": "code",
      "metadata": {
        "id": "AumlJ49POmQd",
        "outputId": "dbecf7b6-b52a-4e35-e439-21e515f5bfc2"
      },
      "source": [
        "sdf.spatial.plot(kind='map', map_widget=permits_by_status_map,\n",
        "        renderer_type='u', # specify the unique value renderer using its notation 'u'\n",
        "        col='Status')  # column to get unique values from"
      ],
      "execution_count": null,
      "outputs": [
        {
          "output_type": "execute_result",
          "data": {
            "text/plain": [
              "True"
            ]
          },
          "metadata": {
            "tags": []
          },
          "execution_count": 57
        }
      ]
    },
    {
      "cell_type": "markdown",
      "metadata": {
        "id": "ZXPTmKw7Puxp"
      },
      "source": [
        "#**Permits by Type**"
      ]
    },
    {
      "cell_type": "code",
      "metadata": {
        "id": "Lg3rUyPjOmQe",
        "outputId": "22d3c49a-8a7c-4f3a-c3b8-201a7642f5e7"
      },
      "source": [
        "permits_by_type = sdf.groupby(['Use_Code']).size()\n",
        "permits_by_type"
      ],
      "execution_count": null,
      "outputs": [
        {
          "output_type": "execute_result",
          "data": {
            "text/plain": [
              "Use_Code\n",
              "ASSEMBLY BUILDING                  394\n",
              "BANK                                87\n",
              "BIOSCIENCE                          39\n",
              "BOARDING HOUSE                       3\n",
              "BUSINESS BUILDING                 3461\n",
              "COMMERCIAL MISCELLANEOUS STRUC    1197\n",
              "EDUCATIONAL BUILDING               658\n",
              "FACTORY                              4\n",
              "FENCE                               10\n",
              "GARAGE                              56\n",
              "HOSPITAL                           143\n",
              "HOTEL                               44\n",
              "INDUSTRIAL BUILDING                 53\n",
              "INSTITUTIONAL BUILDING              30\n",
              "MERCANTILE BUILDING               1016\n",
              "MISCELLANEOUS STRUCTURE              9\n",
              "MULTI-FAMILY DWELLING             1838\n",
              "MULTI-FAMILY SENIOR CITIZEN BL      71\n",
              "MULTIFAMILY DWELLING HIGH RISE      10\n",
              "MULTIFAMILY DWELLING LOW RISE       31\n",
              "OWNERSHIP UNIT                       1\n",
              "PLACE OF WORSHIP                   167\n",
              "RESTAURANT                         638\n",
              "RETAINING WALL                     185\n",
              "SHED                                28\n",
              "STORAGE BUILDING                   208\n",
              "SWIMMING POOL                       51\n",
              "SWIMMING POOL & FENCE                5\n",
              "THEATER                              1\n",
              "TOWER                               14\n",
              "TOWNHOUSE                          680\n",
              "TRAILER                             91\n",
              "UTILITY, MISCELLANEOUS               1\n",
              "dtype: int64"
            ]
          },
          "metadata": {
            "tags": []
          },
          "execution_count": 58
        }
      ]
    },
    {
      "cell_type": "markdown",
      "metadata": {
        "id": "F5mhYNITPz5X"
      },
      "source": [
        "\n",
        "The series is not sorted properly. Use the sort() method to sort it from highest count to lowest count. The most common use code, Business Buildings, has almost twice as many permits as the second highest, Multi-family Dwelling. The top four use codes together comprise the majority of all permits, so these use codes may be the most important to focus on in your analysis later."
      ]
    },
    {
      "cell_type": "code",
      "metadata": {
        "id": "KD1-52KpOmQe",
        "outputId": "f975290b-3900-442a-f2df-439669c67339"
      },
      "source": [
        "permits_by_type.sort_values(ascending=False, inplace=True)\n",
        "permits_by_type.head()"
      ],
      "execution_count": null,
      "outputs": [
        {
          "output_type": "execute_result",
          "data": {
            "text/plain": [
              "Use_Code\n",
              "BUSINESS BUILDING                 3461\n",
              "MULTI-FAMILY DWELLING             1838\n",
              "COMMERCIAL MISCELLANEOUS STRUC    1197\n",
              "MERCANTILE BUILDING               1016\n",
              "TOWNHOUSE                          680\n",
              "dtype: int64"
            ]
          },
          "metadata": {
            "tags": []
          },
          "execution_count": 59
        }
      ]
    },
    {
      "cell_type": "markdown",
      "metadata": {
        "id": "rDw__em7P5-l"
      },
      "source": [
        "\n",
        "#**Clean up the data**\n",
        "Before you begin analysis of your data, you'll hide attribute fields you don't intend to use, rename fields with unclear names, and filter your dataset to only show permits with the four most common use codes. These changes won't permanently affect the original dataset, but they will make the data easier to work with and understand.\n",
        "\n",
        "'Declared_V', 'Building_A', 'Applicatio' attribute fields describe aspects of the data that aren't important for your analysis. You'll drop these fields."
      ]
    },
    {
      "cell_type": "code",
      "metadata": {
        "id": "MQm8FeftOmQe"
      },
      "source": [
        "sdf.drop(['Declared_V', 'Building_A', 'Applicatio'], axis=1, inplace=True)"
      ],
      "execution_count": null,
      "outputs": []
    },
    {
      "cell_type": "code",
      "metadata": {
        "id": "dqcySgcPOmQe",
        "outputId": "aa998dc1-1551-4291-f1ff-7ac31176c1bc"
      },
      "source": [
        "sdf.columns"
      ],
      "execution_count": null,
      "outputs": [
        {
          "output_type": "execute_result",
          "data": {
            "text/plain": [
              "Index(['Added_Date', 'Address', 'BldgAreaNu', 'City', 'DeclValNu',\n",
              "       'DeclValNu2', 'Descriptio', 'FID', 'Final_Date', 'Issue_Date',\n",
              "       'Location', 'Permit_Num', 'Post_direc', 'Pre_direct', 'SHAPE', 'State',\n",
              "       'Status', 'Street_Nam', 'Street_Num', 'Street_Suf', 'Use_Code',\n",
              "       'Work_Type', 'ZIP_code'],\n",
              "      dtype='object')"
            ]
          },
          "metadata": {
            "tags": []
          },
          "execution_count": 61
        }
      ]
    },
    {
      "cell_type": "markdown",
      "metadata": {
        "id": "bpYxM0XCQFqr"
      },
      "source": [
        "\n",
        "The fields are no longer listed.\n",
        "\n",
        "Next, you'll rename some of the attribute fields with shortened or unclear names so that their names are more descriptive."
      ]
    },
    {
      "cell_type": "code",
      "metadata": {
        "id": "h8XVjn5qOmQe"
      },
      "source": [
        "sdf.rename(columns={\"Descriptio\": \"Description\", \"BldgAreaNu\": \"Building_Area\", \"DeclValNu\": \"Declared_Value\"}, inplace=True)"
      ],
      "execution_count": null,
      "outputs": []
    },
    {
      "cell_type": "code",
      "metadata": {
        "id": "W_YTRTluOmQf",
        "outputId": "a4ac4d4a-0136-4ab0-af41-86a8daaa1ae9"
      },
      "source": [
        "sdf.columns"
      ],
      "execution_count": null,
      "outputs": [
        {
          "output_type": "execute_result",
          "data": {
            "text/plain": [
              "Index(['Added_Date', 'Address', 'Building_Area', 'City', 'Declared_Value',\n",
              "       'DeclValNu2', 'Description', 'FID', 'Final_Date', 'Issue_Date',\n",
              "       'Location', 'Permit_Num', 'Post_direc', 'Pre_direct', 'SHAPE', 'State',\n",
              "       'Status', 'Street_Nam', 'Street_Num', 'Street_Suf', 'Use_Code',\n",
              "       'Work_Type', 'ZIP_code'],\n",
              "      dtype='object')"
            ]
          },
          "metadata": {
            "tags": []
          },
          "execution_count": 63
        }
      ]
    },
    {
      "cell_type": "markdown",
      "metadata": {
        "id": "Xjhy8R_VQJwr"
      },
      "source": [
        "There are other fields that you may want to either rename or remove, but for the purposes of this lesson, these are enough.\n",
        "\n"
      ]
    },
    {
      "cell_type": "markdown",
      "metadata": {
        "id": "71pxLMJgQKql"
      },
      "source": [
        "\n",
        "#**Filter the permits**\n",
        "Next, you'll filter the permits to reduce the number of records in your analysis. As you saw previously, there are four types of permits that comprise over half the total number of permits. Focusing your analysis on just these four types will reduce the amount of data to analyze without ignoring the most important types of development. To remove the other use codes, you'll create a filter."
      ]
    },
    {
      "cell_type": "code",
      "metadata": {
        "id": "xHwpBqaPOmQf",
        "outputId": "f8c96c29-2caa-4b9a-ced7-53766c634028"
      },
      "source": [
        "permits_by_type.head(4) # top 4 Use_Codes"
      ],
      "execution_count": null,
      "outputs": [
        {
          "output_type": "execute_result",
          "data": {
            "text/plain": [
              "Use_Code\n",
              "BUSINESS BUILDING                 3461\n",
              "MULTI-FAMILY DWELLING             1838\n",
              "COMMERCIAL MISCELLANEOUS STRUC    1197\n",
              "MERCANTILE BUILDING               1016\n",
              "dtype: int64"
            ]
          },
          "metadata": {
            "tags": []
          },
          "execution_count": 64
        }
      ]
    },
    {
      "cell_type": "code",
      "metadata": {
        "id": "w74ZrSnYOmQf",
        "outputId": "9cfe740e-bce9-4450-d3c9-76c96c42f16f"
      },
      "source": [
        "filtered_permits = list(permits_by_type.head(4).index)\n",
        "filtered_permits"
      ],
      "execution_count": null,
      "outputs": [
        {
          "output_type": "execute_result",
          "data": {
            "text/plain": [
              "['BUSINESS BUILDING',\n",
              " 'MULTI-FAMILY DWELLING',\n",
              " 'COMMERCIAL MISCELLANEOUS STRUC',\n",
              " 'MERCANTILE BUILDING']"
            ]
          },
          "metadata": {
            "tags": []
          },
          "execution_count": 65
        }
      ]
    },
    {
      "cell_type": "markdown",
      "metadata": {
        "id": "zRI27HY7QR0B"
      },
      "source": [
        "\n",
        "To visualize the top 4 Use Codes on a map, you can filer the dataframe with Use_Code containing only the top 4 attribute value."
      ]
    },
    {
      "cell_type": "code",
      "metadata": {
        "id": "olLAcPH5OmQf"
      },
      "source": [
        "filtered_df = sdf.loc[sdf['Use_Code'].isin(filtered_permits)]"
      ],
      "execution_count": null,
      "outputs": []
    },
    {
      "cell_type": "code",
      "metadata": {
        "id": "1ZIEL3AeOmQf",
        "outputId": "329696e6-0e1f-4b3f-a40a-321d8351c13e"
      },
      "source": [
        "filtered_df.head()"
      ],
      "execution_count": null,
      "outputs": [
        {
          "output_type": "execute_result",
          "data": {
            "text/html": [
              "<div>\n",
              "<style scoped>\n",
              "    .dataframe tbody tr th:only-of-type {\n",
              "        vertical-align: middle;\n",
              "    }\n",
              "\n",
              "    .dataframe tbody tr th {\n",
              "        vertical-align: top;\n",
              "    }\n",
              "\n",
              "    .dataframe thead th {\n",
              "        text-align: right;\n",
              "    }\n",
              "</style>\n",
              "<table border=\"1\" class=\"dataframe\">\n",
              "  <thead>\n",
              "    <tr style=\"text-align: right;\">\n",
              "      <th></th>\n",
              "      <th>Added_Date</th>\n",
              "      <th>Address</th>\n",
              "      <th>Building_Area</th>\n",
              "      <th>City</th>\n",
              "      <th>Declared_Value</th>\n",
              "      <th>DeclValNu2</th>\n",
              "      <th>Description</th>\n",
              "      <th>FID</th>\n",
              "      <th>Final_Date</th>\n",
              "      <th>Issue_Date</th>\n",
              "      <th>...</th>\n",
              "      <th>Pre_direct</th>\n",
              "      <th>SHAPE</th>\n",
              "      <th>State</th>\n",
              "      <th>Status</th>\n",
              "      <th>Street_Nam</th>\n",
              "      <th>Street_Num</th>\n",
              "      <th>Street_Suf</th>\n",
              "      <th>Use_Code</th>\n",
              "      <th>Work_Type</th>\n",
              "      <th>ZIP_code</th>\n",
              "    </tr>\n",
              "  </thead>\n",
              "  <tbody>\n",
              "    <tr>\n",
              "      <th>0</th>\n",
              "      <td>2010-01-07</td>\n",
              "      <td>13536 WATERFORD HILLS BLVD</td>\n",
              "      <td>1336.0</td>\n",
              "      <td>GERMANTOWN</td>\n",
              "      <td>103000.0</td>\n",
              "      <td>103000.0</td>\n",
              "      <td>MODEL: TULIP - Unit #D036 - BLDG #4</td>\n",
              "      <td>1</td>\n",
              "      <td>2012-03-13</td>\n",
              "      <td>2011-07-08</td>\n",
              "      <td>...</td>\n",
              "      <td></td>\n",
              "      <td>{\"x\": -8602565.104, \"y\": 4747203.126800001, \"s...</td>\n",
              "      <td>MD</td>\n",
              "      <td>Finaled</td>\n",
              "      <td>WATERFORD HILLS</td>\n",
              "      <td>13536</td>\n",
              "      <td>BLVD</td>\n",
              "      <td>MULTI-FAMILY DWELLING</td>\n",
              "      <td>CONSTRUCT</td>\n",
              "      <td>20874</td>\n",
              "    </tr>\n",
              "    <tr>\n",
              "      <th>1</th>\n",
              "      <td>2010-01-07</td>\n",
              "      <td>13538 WATERFORD HILLS BLVD</td>\n",
              "      <td>1730.0</td>\n",
              "      <td>GERMANTOWN</td>\n",
              "      <td>117000.0</td>\n",
              "      <td>117000.0</td>\n",
              "      <td>MODEL: ORCHID - Unit #D038 - BLDG #4</td>\n",
              "      <td>2</td>\n",
              "      <td>2012-03-15</td>\n",
              "      <td>2011-07-08</td>\n",
              "      <td>...</td>\n",
              "      <td></td>\n",
              "      <td>{\"x\": -8602567.5243, \"y\": 4747204.106700003, \"...</td>\n",
              "      <td>MD</td>\n",
              "      <td>Finaled</td>\n",
              "      <td>WATERFORD HILLS</td>\n",
              "      <td>13538</td>\n",
              "      <td>BLVD</td>\n",
              "      <td>MULTI-FAMILY DWELLING</td>\n",
              "      <td>CONSTRUCT</td>\n",
              "      <td>20874</td>\n",
              "    </tr>\n",
              "    <tr>\n",
              "      <th>2</th>\n",
              "      <td>2010-01-07</td>\n",
              "      <td>13540 WATERFORD HILLS BLVD</td>\n",
              "      <td>1336.0</td>\n",
              "      <td>GERMANTOWN</td>\n",
              "      <td>103000.0</td>\n",
              "      <td>103000.0</td>\n",
              "      <td>MODEL: TULIP - Unit #D040 - BLDG #4</td>\n",
              "      <td>3</td>\n",
              "      <td>2012-03-15</td>\n",
              "      <td>2011-07-08</td>\n",
              "      <td>...</td>\n",
              "      <td></td>\n",
              "      <td>{\"x\": -8602569.9445, \"y\": 4747205.0867, \"spati...</td>\n",
              "      <td>MD</td>\n",
              "      <td>Finaled</td>\n",
              "      <td>WATERFORD HILLS</td>\n",
              "      <td>13540</td>\n",
              "      <td>BLVD</td>\n",
              "      <td>MULTI-FAMILY DWELLING</td>\n",
              "      <td>CONSTRUCT</td>\n",
              "      <td>20874</td>\n",
              "    </tr>\n",
              "    <tr>\n",
              "      <th>3</th>\n",
              "      <td>2010-01-07</td>\n",
              "      <td>13542 WATERFORD HILLS BLVD</td>\n",
              "      <td>1730.0</td>\n",
              "      <td>GERMANTOWN</td>\n",
              "      <td>117000.0</td>\n",
              "      <td>117000.0</td>\n",
              "      <td>MODEL: ORCHID - Unit #D042 - BLDG #4</td>\n",
              "      <td>4</td>\n",
              "      <td>2012-03-15</td>\n",
              "      <td>2011-07-08</td>\n",
              "      <td>...</td>\n",
              "      <td></td>\n",
              "      <td>{\"x\": -8602572.3648, \"y\": 4747206.066600002, \"...</td>\n",
              "      <td>MD</td>\n",
              "      <td>Finaled</td>\n",
              "      <td>WATERFORD HILLS</td>\n",
              "      <td>13542</td>\n",
              "      <td>BLVD</td>\n",
              "      <td>MULTI-FAMILY DWELLING</td>\n",
              "      <td>CONSTRUCT</td>\n",
              "      <td>20874</td>\n",
              "    </tr>\n",
              "    <tr>\n",
              "      <th>4</th>\n",
              "      <td>2010-01-07</td>\n",
              "      <td>13544 WATERFORD HILLS BLVD</td>\n",
              "      <td>1336.0</td>\n",
              "      <td>GERMANTOWN</td>\n",
              "      <td>103000.0</td>\n",
              "      <td>103000.0</td>\n",
              "      <td>MODEL: TULIP - Unit #D044 - BLDG #4</td>\n",
              "      <td>5</td>\n",
              "      <td>2012-03-15</td>\n",
              "      <td>2011-07-08</td>\n",
              "      <td>...</td>\n",
              "      <td></td>\n",
              "      <td>{\"x\": -8602574.7851, \"y\": 4747207.046599999, \"...</td>\n",
              "      <td>MD</td>\n",
              "      <td>Finaled</td>\n",
              "      <td>WATERFORD HILLS</td>\n",
              "      <td>13544</td>\n",
              "      <td>BLVD</td>\n",
              "      <td>MULTI-FAMILY DWELLING</td>\n",
              "      <td>CONSTRUCT</td>\n",
              "      <td>20874</td>\n",
              "    </tr>\n",
              "  </tbody>\n",
              "</table>\n",
              "<p>5 rows × 23 columns</p>\n",
              "</div>"
            ],
            "text/plain": [
              "  Added_Date                     Address  Building_Area        City  \\\n",
              "0 2010-01-07  13536 WATERFORD HILLS BLVD         1336.0  GERMANTOWN   \n",
              "1 2010-01-07  13538 WATERFORD HILLS BLVD         1730.0  GERMANTOWN   \n",
              "2 2010-01-07  13540 WATERFORD HILLS BLVD         1336.0  GERMANTOWN   \n",
              "3 2010-01-07  13542 WATERFORD HILLS BLVD         1730.0  GERMANTOWN   \n",
              "4 2010-01-07  13544 WATERFORD HILLS BLVD         1336.0  GERMANTOWN   \n",
              "\n",
              "   Declared_Value  DeclValNu2                           Description  FID  \\\n",
              "0        103000.0    103000.0   MODEL: TULIP - Unit #D036 - BLDG #4    1   \n",
              "1        117000.0    117000.0  MODEL: ORCHID - Unit #D038 - BLDG #4    2   \n",
              "2        103000.0    103000.0   MODEL: TULIP - Unit #D040 - BLDG #4    3   \n",
              "3        117000.0    117000.0  MODEL: ORCHID - Unit #D042 - BLDG #4    4   \n",
              "4        103000.0    103000.0   MODEL: TULIP - Unit #D044 - BLDG #4    5   \n",
              "\n",
              "  Final_Date Issue_Date  ... Pre_direct  \\\n",
              "0 2012-03-13 2011-07-08  ...              \n",
              "1 2012-03-15 2011-07-08  ...              \n",
              "2 2012-03-15 2011-07-08  ...              \n",
              "3 2012-03-15 2011-07-08  ...              \n",
              "4 2012-03-15 2011-07-08  ...              \n",
              "\n",
              "                                               SHAPE State   Status  \\\n",
              "0  {\"x\": -8602565.104, \"y\": 4747203.126800001, \"s...    MD  Finaled   \n",
              "1  {\"x\": -8602567.5243, \"y\": 4747204.106700003, \"...    MD  Finaled   \n",
              "2  {\"x\": -8602569.9445, \"y\": 4747205.0867, \"spati...    MD  Finaled   \n",
              "3  {\"x\": -8602572.3648, \"y\": 4747206.066600002, \"...    MD  Finaled   \n",
              "4  {\"x\": -8602574.7851, \"y\": 4747207.046599999, \"...    MD  Finaled   \n",
              "\n",
              "        Street_Nam Street_Num Street_Suf               Use_Code  Work_Type  \\\n",
              "0  WATERFORD HILLS      13536       BLVD  MULTI-FAMILY DWELLING  CONSTRUCT   \n",
              "1  WATERFORD HILLS      13538       BLVD  MULTI-FAMILY DWELLING  CONSTRUCT   \n",
              "2  WATERFORD HILLS      13540       BLVD  MULTI-FAMILY DWELLING  CONSTRUCT   \n",
              "3  WATERFORD HILLS      13542       BLVD  MULTI-FAMILY DWELLING  CONSTRUCT   \n",
              "4  WATERFORD HILLS      13544       BLVD  MULTI-FAMILY DWELLING  CONSTRUCT   \n",
              "\n",
              "  ZIP_code  \n",
              "0    20874  \n",
              "1    20874  \n",
              "2    20874  \n",
              "3    20874  \n",
              "4    20874  \n",
              "\n",
              "[5 rows x 23 columns]"
            ]
          },
          "metadata": {
            "tags": []
          },
          "execution_count": 67
        }
      ]
    },
    {
      "cell_type": "code",
      "metadata": {
        "id": "CQk9WKjROmQg",
        "outputId": "1959ec10-8967-4d41-9d03-0c30123d0239"
      },
      "source": [
        "sdf.shape, filtered_df.shape"
      ],
      "execution_count": null,
      "outputs": [
        {
          "output_type": "execute_result",
          "data": {
            "text/plain": [
              "((11224, 23), (7512, 23))"
            ]
          },
          "metadata": {
            "tags": []
          },
          "execution_count": 68
        }
      ]
    },
    {
      "cell_type": "markdown",
      "metadata": {
        "id": "7QAuSJ7OQnxz"
      },
      "source": [
        "The dataset is filtered. Instead of more than 11,000 permits, the filtered dataframe has about 7,500.\n",
        "\n"
      ]
    },
    {
      "cell_type": "markdown",
      "metadata": {
        "id": "-xP8iv1OQq2s"
      },
      "source": [
        "#**Visualize filtered dataset**"
      ]
    },
    {
      "cell_type": "code",
      "metadata": {
        "id": "0mfu6ZqaOmQg"
      },
      "source": [
        "filtered_map = agol_gis.map('Montgomery County, Maryland')"
      ],
      "execution_count": null,
      "outputs": []
    },
    {
      "cell_type": "code",
      "metadata": {
        "colab": {
          "referenced_widgets": [
            "baf705e67f3d429f95b6c81eb194a409"
          ]
        },
        "id": "YFiSW6k8OmQg",
        "outputId": "11e808f8-ac98-4454-88f1-caa536a7329a"
      },
      "source": [
        "filtered_map"
      ],
      "execution_count": null,
      "outputs": [
        {
          "output_type": "display_data",
          "data": {
            "application/vnd.jupyter.widget-view+json": {
              "model_id": "baf705e67f3d429f95b6c81eb194a409",
              "version_major": 2,
              "version_minor": 0
            },
            "text/plain": [
              "MapView(layout=Layout(height='400px', width='100%'))"
            ]
          },
          "metadata": {
            "tags": []
          }
        },
        {
          "output_type": "display_data",
          "data": {
            "text/html": [
              "<div class=\"map-static-img-preview-dc8a5106-815f-41a2-97e1-ab7477c11931\"><img src=\"\"></img></div>"
            ],
            "text/plain": [
              "<IPython.core.display.HTML object>"
            ]
          },
          "metadata": {
            "tags": []
          }
        },
        {
          "output_type": "display_data",
          "data": {
            "text/html": [
              "<div class=\"map-html-embed-preview-dc8a5106-815f-41a2-97e1-ab7477c11931\"></div>"
            ],
            "text/plain": [
              "<IPython.core.display.HTML object>"
            ]
          },
          "metadata": {
            "tags": []
          }
        }
      ]
    },
    {
      "cell_type": "code",
      "metadata": {
        "id": "LFbuOfHAOmQg",
        "outputId": "4276b96c-b7e0-4f45-ec61-fffe92a134cc"
      },
      "source": [
        "filtered_df.spatial.plot(kind='map', map_widget=filtered_map,\n",
        "        renderer_type='u', # specify the unique value renderer using its notation 'u'\n",
        "        col='Use_Code')  # column to get unique values from"
      ],
      "execution_count": null,
      "outputs": [
        {
          "output_type": "execute_result",
          "data": {
            "text/plain": [
              "True"
            ]
          },
          "metadata": {
            "tags": []
          },
          "execution_count": 71
        }
      ]
    },
    {
      "cell_type": "markdown",
      "metadata": {
        "id": "epv4YXNSQwd0"
      },
      "source": [
        "#**Visualize temporal and spatial trends**\n",
        "Your data show permits, but what do these permits say about when and where growth is happening in the county? Your data also contains temporal attribute fields, such as Added_Date, which indicates when a permit was first added to the system. The field has several values that break down the data by year, month, and even hour.\n",
        "\n",
        "Split the Added_date to get year, month, week_of_day"
      ]
    },
    {
      "cell_type": "code",
      "metadata": {
        "id": "1KA1bV4kOmQg"
      },
      "source": [
        "sdf['datetime'] = pd.to_datetime(sdf['Added_Date'], unit='ms')\n",
        "sdf['year'], sdf['month'], sdf['day_of_week'] = sdf.datetime.dt.year, sdf.datetime.dt.month, sdf.datetime.dt.dayofweek"
      ],
      "execution_count": null,
      "outputs": []
    },
    {
      "cell_type": "markdown",
      "metadata": {
        "id": "3wnB1VylQ13o"
      },
      "source": [
        "#**Visualize permits by time of issue**\n",
        "You'll create chart cards for the year, month, and day subfields to visualize patterns in permit activity over time."
      ]
    },
    {
      "cell_type": "code",
      "metadata": {
        "id": "-7IeHlasOmQg"
      },
      "source": [
        "import seaborn as sns"
      ],
      "execution_count": null,
      "outputs": []
    },
    {
      "cell_type": "code",
      "metadata": {
        "id": "nLlR8XUsOmQg",
        "outputId": "e4e2af63-702c-46bc-b384-13596c90b271"
      },
      "source": [
        "sns.countplot(x=\"year\", data=sdf);"
      ],
      "execution_count": null,
      "outputs": [
        {
          "output_type": "display_data",
          "data": {
            "image/png": "[encoded data removed]",
            "text/plain": [
              "<Figure size 432x288 with 1 Axes>"
            ]
          },
          "metadata": {
            "tags": [],
            "needs_background": "light"
          }
        }
      ]
    },
    {
      "cell_type": "markdown",
      "metadata": {
        "id": "nbHgZtWZQ7ad"
      },
      "source": [
        "\n",
        "The chart shows the number of permits issued each year since 2010. (The year 2017 has significantly fewer permits because the dataset only covers part of 2017.) You can compare the number of permits visually by the size of each bar. Although some fluctuation occurs from year to year, most years had similar permit activity.\n",
        "\n",
        "Similarly you can visualize it by month as well as day_of_week"
      ]
    },
    {
      "cell_type": "code",
      "metadata": {
        "id": "ThW0Un_QOmQh",
        "outputId": "2483aa1a-319c-4fb0-d3de-dec2ab47a60d"
      },
      "source": [
        "sns.countplot(x=\"month\", data=sdf);"
      ],
      "execution_count": null,
      "outputs": [
        {
          "output_type": "display_data",
          "data": {
            "image/png": "[encoded data removed]",
            "text/plain": [
              "<Figure size 432x288 with 1 Axes>"
            ]
          },
          "metadata": {
            "tags": [],
            "needs_background": "light"
          }
        }
      ]
    },
    {
      "cell_type": "markdown",
      "metadata": {
        "id": "uyCDrKdbQ_ux"
      },
      "source": [
        "\n",
        "This bar chart changes to show the number of permits issued by month. Based on the chart, the highest permit activity occurs in June and July."
      ]
    },
    {
      "cell_type": "code",
      "metadata": {
        "id": "lCsnVxLyOmQh",
        "outputId": "538f6077-1eac-427f-a917-0fe8da2d0e9c"
      },
      "source": [
        "sns.countplot(x=\"day_of_week\", data=sdf);"
      ],
      "execution_count": null,
      "outputs": [
        {
          "output_type": "display_data",
          "data": {
            "image/png": "[encoded data removed]",
            "text/plain": [
              "<Figure size 432x288 with 1 Axes>"
            ]
          },
          "metadata": {
            "tags": [],
            "needs_background": "light"
          }
        }
      ]
    },
    {
      "cell_type": "markdown",
      "metadata": {
        "id": "yV9UGv5kRCcK"
      },
      "source": [
        "Almost all permit activity occurs on weekdays. Government offices are closed on weekends, so few permits are issued then.\n",
        "\n"
      ]
    },
    {
      "cell_type": "code",
      "metadata": {
        "id": "Y5PFRN42OmQh"
      },
      "source": [
        "ddf = sdf.set_index('datetime')"
      ],
      "execution_count": null,
      "outputs": []
    },
    {
      "cell_type": "code",
      "metadata": {
        "id": "IlEM0PKoOmQh",
        "outputId": "cd954d0d-fd11-4601-ed23-97e0c1ee29d9"
      },
      "source": [
        "ddf['num'] = 1\n",
        "ddf['num'].resample('M').sum().plot();"
      ],
      "execution_count": null,
      "outputs": [
        {
          "output_type": "display_data",
          "data": {
            "image/png": "[encoded data removed]",
            "text/plain": [
              "<Figure size 432x288 with 1 Axes>"
            ]
          },
          "metadata": {
            "tags": [],
            "needs_background": "light"
          }
        }
      ]
    },
    {
      "cell_type": "markdown",
      "metadata": {
        "id": "evpt3WsBREmi"
      },
      "source": [
        "\n",
        "A huge spike in permit activity occurred in mid-2011. What caused this spike? Is it an increase in overall permit activity, or is it mostly an increase in a certain type of permit? You'll plot the number of permits based on Use_Code to find which one cased the spike."
      ]
    },
    {
      "cell_type": "code",
      "metadata": {
        "id": "ODVtttRGOmQh",
        "outputId": "3c01a9a7-2019-421f-9652-6366c7bd80bb"
      },
      "source": [
        "fig = plt.figure(figsize=(15,5))\n",
        "ax = fig.add_subplot(1, 1, 1)\n",
        "\n",
        "ax.plot(ddf['num'].resample('M').sum(), 'k', label='Total permits')\n",
        "for use_code in filtered_permits:\n",
        "    x = ddf[ddf.Use_Code == use_code]['num'].resample('M').sum()\n",
        "    ax.plot(x, label=use_code)\n",
        "ax.legend();"
      ],
      "execution_count": null,
      "outputs": [
        {
          "output_type": "display_data",
          "data": {
            "image/png": "[encoded data removed]",
            "text/plain": [
              "<Figure size 1080x360 with 1 Axes>"
            ]
          },
          "metadata": {
            "tags": [],
            "needs_background": "light"
          }
        }
      ]
    },
    {
      "cell_type": "markdown",
      "metadata": {
        "id": "yyoLjkt2RG88"
      },
      "source": [
        "\n",
        "Based on the legend, permit activity spiked in 2011 due to a sharp increase in the number of multifamily dwelling permits issued. This likely means that there was large residential growth in 2011.\n",
        "\n",
        "You've investigated some temporal patterns in your data. Next, you'll look at spatial patterns. Are there certain areas in the county that have experienced a relatively high degree of permit activity? Was the 2011 spike in residential permits in a specific location? To find out, you'll change the symbology of the map card to show hot spots, or areas with concentrations of points."
      ]
    },
    {
      "cell_type": "code",
      "metadata": {
        "colab": {
          "referenced_widgets": [
            "05d74401f4f4412887a31b54fc17de68"
          ]
        },
        "id": "HQMkXMaDOmQh",
        "outputId": "cc0e7af3-56c3-4f8a-8e22-75a8d5f8d627"
      },
      "source": [
        "hotspot_map = agol_gis.map('Germantown, Montgomery County, Maryland')\n",
        "hotspot_map"
      ],
      "execution_count": null,
      "outputs": [
        {
          "output_type": "display_data",
          "data": {
            "application/vnd.jupyter.widget-view+json": {
              "model_id": "05d74401f4f4412887a31b54fc17de68",
              "version_major": 2,
              "version_minor": 0
            },
            "text/plain": [
              "MapView(layout=Layout(height='400px', width='100%'))"
            ]
          },
          "metadata": {
            "tags": []
          }
        },
        {
          "output_type": "display_data",
          "data": {
            "text/html": [
              "<div class=\"map-static-img-preview-fd06cb7b-c1bc-4d0a-a87a-161bc5db3b84\"><img src=\"\"></img></div>"
            ],
            "text/plain": [
              "<IPython.core.display.HTML object>"
            ]
          },
          "metadata": {
            "tags": []
          }
        },
        {
          "output_type": "display_data",
          "data": {
            "text/html": [
              "<div class=\"map-html-embed-preview-fd06cb7b-c1bc-4d0a-a87a-161bc5db3b84\"></div>"
            ],
            "text/plain": [
              "<IPython.core.display.HTML object>"
            ]
          },
          "metadata": {
            "tags": []
          }
        }
      ]
    },
    {
      "cell_type": "code",
      "metadata": {
        "id": "1rMEnsHwOmQi",
        "outputId": "5ba8a8ab-379b-411b-af1f-5fdba1d63ce4"
      },
      "source": [
        "sdf.spatial.plot(kind='map', map_widget=hotspot_map,\n",
        "        renderer_type='h', \n",
        "        col='Status') "
      ],
      "execution_count": null,
      "outputs": [
        {
          "output_type": "execute_result",
          "data": {
            "text/plain": [
              "True"
            ]
          },
          "metadata": {
            "tags": []
          },
          "execution_count": 81
        }
      ]
    },
    {
      "cell_type": "markdown",
      "metadata": {
        "id": "dm0liwgCRKa9"
      },
      "source": [
        "\n",
        "The hot spots show up where there is a high concentration of permits. The highest concentration areas are in the southeast and northwest corners of the county, which correspond to the major population centers of Germantown and the suburban communities near Washington, D.C.\n",
        "\n",
        "Next, you'll see if the 2011 permit spike corresponds to a specific area of the map. The code below filters the dataframe to only show permits from 2011 and highlights related data in the map. In this case, the heat map changes to show the hot spot in the northwest part of the county, near Germantown."
      ]
    },
    {
      "cell_type": "code",
      "metadata": {
        "colab": {
          "referenced_widgets": [
            "b1554b8e8661486c85fe4de12c36c57c"
          ]
        },
        "id": "37b7zlw9OmQi",
        "outputId": "a936c332-b395-4e12-a531-fa31c15f9f33"
      },
      "source": [
        "hotspot_2011_map = agol_gis.map('Germantown, Montgomery County, Maryland')\n",
        "hotspot_2011_map"
      ],
      "execution_count": null,
      "outputs": [
        {
          "output_type": "display_data",
          "data": {
            "application/vnd.jupyter.widget-view+json": {
              "model_id": "b1554b8e8661486c85fe4de12c36c57c",
              "version_major": 2,
              "version_minor": 0
            },
            "text/plain": [
              "MapView(layout=Layout(height='400px', width='100%'))"
            ]
          },
          "metadata": {
            "tags": []
          }
        },
        {
          "output_type": "display_data",
          "data": {
            "text/html": [
              "<div class=\"map-static-img-preview-1cf4b23b-476e-4e3e-8132-7df2cbea29bd\"><img src=\"\"></img></div>"
            ],
            "text/plain": [
              "<IPython.core.display.HTML object>"
            ]
          },
          "metadata": {
            "tags": []
          }
        },
        {
          "output_type": "display_data",
          "data": {
            "text/html": [
              "<div class=\"map-html-embed-preview-1cf4b23b-476e-4e3e-8132-7df2cbea29bd\"></div>"
            ],
            "text/plain": [
              "<IPython.core.display.HTML object>"
            ]
          },
          "metadata": {
            "tags": []
          }
        }
      ]
    },
    {
      "cell_type": "code",
      "metadata": {
        "id": "XQvlQRJHOmQi",
        "outputId": "61bd9abb-2344-402d-d840-4c6ce225eb56"
      },
      "source": [
        "sdf[sdf.year==2011].spatial.plot(kind='map', map_widget=hotspot_2011_map,\n",
        "        renderer_type='h',\n",
        "        col='Status')  # column to get unique values from"
      ],
      "execution_count": null,
      "outputs": [
        {
          "output_type": "execute_result",
          "data": {
            "text/plain": [
              "True"
            ]
          },
          "metadata": {
            "tags": []
          },
          "execution_count": 83
        }
      ]
    }
  ]
}