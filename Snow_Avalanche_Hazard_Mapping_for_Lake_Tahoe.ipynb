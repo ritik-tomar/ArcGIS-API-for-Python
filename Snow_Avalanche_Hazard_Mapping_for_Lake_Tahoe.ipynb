{
  "nbformat": 4,
  "nbformat_minor": 0,
  "metadata": {
    "esriNotebookRuntime": {
      "notebookRuntimeName": "ArcGIS Notebook Python 3 Standard",
      "notebookRuntimeVersion": "5.0"
    },
    "kernelspec": {
      "display_name": "Python 3",
      "language": "python",
      "name": "python3"
    },
    "language_info": {
      "codemirror_mode": {
        "name": "ipython",
        "version": 3
      },
      "file_extension": ".py",
      "mimetype": "text/x-python",
      "name": "python",
      "nbconvert_exporter": "python",
      "pygments_lexer": "ipython3",
      "version": "3.7.9"
    },
    "colab": {
      "name": "Snow_Avalanche_Hazard_Mapping_for_Lake_Tahoe.ipynb",
      "provenance": []
    }
  },
  "cells": [
    {
      "cell_type": "markdown",
      "metadata": {
        "id": "MZ2l2582Twga"
      },
      "source": [
        "\n",
        "#**Introduction**\n",
        "According to the National Avalanche Center, every year 25 to 30 people die due to snow avalanches in USA, interestingly termed as \"White Death\". Record shows that snow avalanches have killed more people in forests than any other natural disaster, while they were participating in recreational activities.\n",
        "\n",
        "Recently on Jan 17, 2020, a snow avalanche caused several people missing at the Alpine Meadows ski area and near lake Tahoe. Other than human casualty, it also creates blockage on roads and railway tracks and can even destroy power supply lines. Avalanches could be triggered by various reasons such as heavy snowfall, deforestation, vibrations, change in wind direction & speed, etc.\n",
        "\n",
        "In view of this destructive power of avalanches a study is undertaken near the Lake Tahoe area, California to identify vulnerable locations that could be hit by snow avalanches. Weighted Linear Combination (WLC) method based on combined GIS and Remote Sensing techniques is used in the sample to create a potential hazard map for avalanches. It consists of three steps:\n",
        "\n",
        "1. Reclassify all the datasets in the same range\n",
        "\n",
        "2. Assign scores to the categories of each dataset\n",
        "\n",
        "3. Weight each dataset based on relative importance and add them together\n",
        "\n",
        "#**Necessary imports** \n",
        "\n"
      ]
    },
    {
      "cell_type": "code",
      "metadata": {
        "id": "DmE9R1DHTkxH"
      },
      "source": [
        "from arcgis.gis import GIS\n",
        "import arcgis.raster.functions\n",
        "from arcgis.raster.functions import aspect, clip, colormap, con, curvature, remap, slope "
      ],
      "execution_count": null,
      "outputs": []
    },
    {
      "cell_type": "markdown",
      "metadata": {
        "id": "SppeYqSyULkJ"
      },
      "source": [
        "#**Connect to your GIS**"
      ]
    },
    {
      "cell_type": "code",
      "metadata": {
        "id": "q6LFX2zqTkxK"
      },
      "source": [
        "gis = GIS('https://pythonapi.playground.esri.com/portal', 'arcgis_python', 'amazing_arcgis_123')"
      ],
      "execution_count": null,
      "outputs": []
    },
    {
      "cell_type": "markdown",
      "metadata": {
        "id": "1bv18_t7USlH"
      },
      "source": [
        "#**Get the data for analysis** \n",
        "Avalanche is a dynamic hazard or in other words has a fast onset and offset period, with favorable conditions impacted by land use-landcover, elevation, slope, curvature, variations in weather. In this study, USA NLCD Land Cover data is used for land cover, and ASTER DEM is used for elevation, slope and curvature to create a potential snow avalanche hazard map for the Lake Tahoe area."
      ]
    },
    {
      "cell_type": "code",
      "metadata": {
        "id": "8mKA_YojTkxL",
        "outputId": "118cc61f-f454-4094-c761-c93e467b4291"
      },
      "source": [
        "# Aster DEM\n",
        "dem = gis.content.search(\"DEM Lake Tahoe\", 'imagery layer')[0]\n",
        "dem"
      ],
      "execution_count": null,
      "outputs": [
        {
          "output_type": "execute_result",
          "data": {
            "text/html": [
              "<div class=\"item_container\" style=\"height: auto; overflow: hidden; border: 1px solid #cfcfcf; border-radius: 2px; background: #f6fafa; line-height: 1.21429em; padding: 10px;\">\n",
              "                    <div class=\"item_left\" style=\"width: 210px; float: left;\">\n",
              "                       <a href='https://pythonapi.playground.esri.com/portal/home/item.html?id=1c7015abfe0a4a329cec4655bae43324' target='_blank'>\n",
              "                        <img src='https://pythonapi.playground.esri.com/portal/portalimages/desktopapp.png' class=\"itemThumbnail\">\n",
              "                       </a>\n",
              "                    </div>\n",
              "\n",
              "                    <div class=\"item_right\"     style=\"float: none; width: auto; overflow: hidden;\">\n",
              "                        <a href='https://pythonapi.playground.esri.com/portal/home/item.html?id=1c7015abfe0a4a329cec4655bae43324' target='_blank'><b>DEM Lake Tahoe</b>\n",
              "                        </a>\n",
              "                        <br/>DEM Lake Tahoe<img src='https://pythonapi.playground.esri.com/portal/home/js/jsapi/esri/css/images/item_type_icons/imagery16.png' style=\"vertical-align:middle;\">Imagery Layer by api_data_owner\n",
              "                        <br/>Last Modified: February 28, 2020\n",
              "                        <br/>0 comments, 31 views\n",
              "                    </div>\n",
              "                </div>\n",
              "                "
            ],
            "text/plain": [
              "<Item title:\"DEM Lake Tahoe\" type:Imagery Layer owner:api_data_owner>"
            ]
          },
          "metadata": {
            "tags": []
          },
          "execution_count": 3
        }
      ]
    },
    {
      "cell_type": "code",
      "metadata": {
        "id": "LhgqhxtyTkxM",
        "outputId": "35832e82-d31b-472e-9e03-e0dcd7b2b954"
      },
      "source": [
        "lulc = gis.content.search(\"LULC Lake Tahoe\", 'imagery layer')[0]\n",
        "lulc"
      ],
      "execution_count": null,
      "outputs": [
        {
          "output_type": "execute_result",
          "data": {
            "text/html": [
              "<div class=\"item_container\" style=\"height: auto; overflow: hidden; border: 1px solid #cfcfcf; border-radius: 2px; background: #f6fafa; line-height: 1.21429em; padding: 10px;\">\n",
              "                    <div class=\"item_left\" style=\"width: 210px; float: left;\">\n",
              "                       <a href='https://pythonapi.playground.esri.com/portal/home/item.html?id=36911db405f64bff8a06d914ff4b7dc6' target='_blank'>\n",
              "                        <img src='https://pythonapi.playground.esri.com/portal/portalimages/desktopapp.png' class=\"itemThumbnail\">\n",
              "                       </a>\n",
              "                    </div>\n",
              "\n",
              "                    <div class=\"item_right\"     style=\"float: none; width: auto; overflow: hidden;\">\n",
              "                        <a href='https://pythonapi.playground.esri.com/portal/home/item.html?id=36911db405f64bff8a06d914ff4b7dc6' target='_blank'><b>Lake Tahoe LULC</b>\n",
              "                        </a>\n",
              "                        <br/>Lake Tahoe LULC<img src='https://pythonapi.playground.esri.com/portal/home/js/jsapi/esri/css/images/item_type_icons/imagery16.png' style=\"vertical-align:middle;\">Imagery Layer by api_data_owner\n",
              "                        <br/>Last Modified: February 28, 2020\n",
              "                        <br/>0 comments, 19 views\n",
              "                    </div>\n",
              "                </div>\n",
              "                "
            ],
            "text/plain": [
              "<Item title:\"Lake Tahoe LULC\" type:Imagery Layer owner:api_data_owner>"
            ]
          },
          "metadata": {
            "tags": []
          },
          "execution_count": 4
        }
      ]
    },
    {
      "cell_type": "code",
      "metadata": {
        "id": "4Ojk1gHqTkxN",
        "outputId": "eccf9c69-3817-4aa1-dd85-b8dcd53bd409"
      },
      "source": [
        "aoi = gis.content.search(\"study area tahoe\", 'feature layer')[0]\n",
        "aoi"
      ],
      "execution_count": null,
      "outputs": [
        {
          "output_type": "execute_result",
          "data": {
            "text/html": [
              "<div class=\"item_container\" style=\"height: auto; overflow: hidden; border: 1px solid #cfcfcf; border-radius: 2px; background: #f6fafa; line-height: 1.21429em; padding: 10px;\">\n",
              "                    <div class=\"item_left\" style=\"width: 210px; float: left;\">\n",
              "                       <a href='https://pythonapi.playground.esri.com/portal/home/item.html?id=4e4535a313414647b0d08bdbe95dc01f' target='_blank'>\n",
              "                        <img src='data:image/png;base64,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' width='200' height='133' class=\"itemThumbnail\">\n",
              "                       </a>\n",
              "                    </div>\n",
              "\n",
              "                    <div class=\"item_right\"     style=\"float: none; width: auto; overflow: hidden;\">\n",
              "                        <a href='https://pythonapi.playground.esri.com/portal/home/item.html?id=4e4535a313414647b0d08bdbe95dc01f' target='_blank'><b>Study Area Tahoe</b>\n",
              "                        </a>\n",
              "                        <br/>Study Area Tahoe<img src='https://pythonapi.playground.esri.com/portal/home/js/jsapi/esri/css/images/item_type_icons/featureshosted16.png' style=\"vertical-align:middle;\">Feature Layer Collection by api_data_owner\n",
              "                        <br/>Last Modified: February 28, 2020\n",
              "                        <br/>0 comments, 90 views\n",
              "                    </div>\n",
              "                </div>\n",
              "                "
            ],
            "text/plain": [
              "<Item title:\"Study Area Tahoe\" type:Feature Layer Collection owner:api_data_owner>"
            ]
          },
          "metadata": {
            "tags": []
          },
          "execution_count": 5
        }
      ]
    },
    {
      "cell_type": "markdown",
      "metadata": {
        "id": "_bcaAwuZUaML"
      },
      "source": [
        "\n",
        "Once the datasets are ready Weighted Linear Combination (WLC) is carried out. Here all the datasets were reclassified and scores were given to them so that all are in the same number scale. The score ranges between 0 to 5, with high score implying extremely vulnerable area and low score indicating less vulnerable or safe areas."
      ]
    },
    {
      "cell_type": "code",
      "metadata": {
        "id": "ELdwPUV3TkxO"
      },
      "source": [
        "# Weighted Linear Combination (WLC) \n",
        "aoi_layer = aoi.layers[0]\n",
        "aoi_feature = aoi_layer.query(where='OBJECTID=1')\n",
        "aoi_feature.features[0].extent = dem.layers[0].extent\n",
        "aoi_geom = aoi_feature.features[0].geometry\n",
        "aoi_geom['spatialReference'] = {'wkid':3857}"
      ],
      "execution_count": null,
      "outputs": []
    },
    {
      "cell_type": "markdown",
      "metadata": {
        "id": "SnJz_0q7Udm6"
      },
      "source": [
        "For further analysis, all the datasets were clipped with the AOI boundary.\n",
        "\n",
        "#**Clip and generate rasters from DEM** \n",
        "ASTER DEM imagery layer was used in the study, having a spatial resolution of 30m. The DEM was clipped with the AOI boundary, followed by creating classified rasters of DEM elevation, slope, curvature and aspect rasters from it."
      ]
    },
    {
      "cell_type": "code",
      "metadata": {
        "id": "OLzNWp8kTkxP"
      },
      "source": [
        "dem_clip = clip(dem.layers[0], aoi_geom)"
      ],
      "execution_count": null,
      "outputs": []
    },
    {
      "cell_type": "code",
      "metadata": {
        "colab": {
          "referenced_widgets": [
            "165528d2c16f4e86bf12e49f97cec768"
          ]
        },
        "id": "90OaNI-4TkxR",
        "outputId": "0408eee3-cd58-466c-b743-e90fe4dcbed0"
      },
      "source": [
        "m = gis.map('Lake Tahoe, California')\n",
        "m.add_layer(dem_clip)\n",
        "m.legend = True\n",
        "m"
      ],
      "execution_count": null,
      "outputs": [
        {
          "output_type": "display_data",
          "data": {
            "application/vnd.jupyter.widget-view+json": {
              "model_id": "165528d2c16f4e86bf12e49f97cec768",
              "version_major": 2,
              "version_minor": 0
            },
            "text/plain": [
              "MapView(layout=Layout(height='400px', width='100%'), legend=True)"
            ]
          },
          "metadata": {
            "tags": []
          }
        },
        {
          "output_type": "display_data",
          "data": {
            "text/html": [
              "<div class=\"map-static-img-preview-d2eda0b1-759d-45e7-9042-e00b449a40a7\"><img src=\"\"></img></div>"
            ],
            "text/plain": [
              "<IPython.core.display.HTML object>"
            ]
          },
          "metadata": {
            "tags": []
          }
        },
        {
          "output_type": "display_data",
          "data": {
            "text/html": [
              "<div class=\"map-html-embed-preview-d2eda0b1-759d-45e7-9042-e00b449a40a7\"></div>"
            ],
            "text/plain": [
              "<IPython.core.display.HTML object>"
            ]
          },
          "metadata": {
            "tags": []
          }
        }
      ]
    },
    {
      "cell_type": "markdown",
      "metadata": {
        "id": "c-KrChTlUn8Z"
      },
      "source": [
        "#**Create elevation raster**\n",
        "Elevation does not directly affect avalanche occurrences, but it impacts meteorological factors like temperature, wind speed, amount and type of precipitation which in turn affect the snowpack stability.\n",
        "\n",
        "Generally, with an increase in elevation, the air temperature decreases while the wind speed increases. Literature shows that most of the avalanches occur between 2700m to 6000m.\n",
        "\n",
        "The study area DEM has elevation between 628m to 3292m. The elevation raster has been created by reclassifying the DEM. DEM was reclassified into 5 classes and scores were given to each class between 1 to 5 where 1 means not vulnerable and 5 means highly vulnerable to snow avalanche. The highest score of 5 was given to the elevation class 2345 to 3309 followed by 2002 to 2345 class with 4. A score of 1 was given to the elevation value between 612 to 1713 as the literature shows elevation below 2000m is less vulnerable for an avalanche."
      ]
    },
    {
      "cell_type": "code",
      "metadata": {
        "id": "Rlj5vldZTkxS"
      },
      "source": [
        "elevation = colormap(remap(dem_clip,\n",
        "                           input_ranges=[612, 1433,\n",
        "                                         1433, 1713,\n",
        "                                         1713, 2002,\n",
        "                                         2002, 2345,\n",
        "                                         2345, 3309],\n",
        "                           output_values=[1, 2, 2, 4, 5],\n",
        "                           astype='u8'),\n",
        "                     colormap=[[1, 255, 255, 204], [2, 0, 100, 0],\n",
        "                               [4, 255, 127, 80], [5, 255, 0, 0]])"
      ],
      "execution_count": null,
      "outputs": []
    },
    {
      "cell_type": "code",
      "metadata": {
        "colab": {
          "referenced_widgets": [
            "02fe976601fe49fca9c26dc3ca8274b1"
          ]
        },
        "id": "toMXWk-eTkxU",
        "outputId": "f85e5d27-282a-449e-c9bc-3fdae3e5477a"
      },
      "source": [
        "m = gis.map('Lake Tahoe, California')\n",
        "m.add_layer(elevation)\n",
        "m.legend = True\n",
        "m"
      ],
      "execution_count": null,
      "outputs": [
        {
          "output_type": "display_data",
          "data": {
            "application/vnd.jupyter.widget-view+json": {
              "model_id": "02fe976601fe49fca9c26dc3ca8274b1",
              "version_major": 2,
              "version_minor": 0
            },
            "text/plain": [
              "MapView(layout=Layout(height='400px', width='100%'), legend=True)"
            ]
          },
          "metadata": {
            "tags": []
          }
        },
        {
          "output_type": "display_data",
          "data": {
            "text/html": [
              "<div class=\"map-static-img-preview-15130205-80d6-41a4-bbbc-e6bf8bf3431c\"><img src=\"\"></img></div>"
            ],
            "text/plain": [
              "<IPython.core.display.HTML object>"
            ]
          },
          "metadata": {
            "tags": []
          }
        },
        {
          "output_type": "display_data",
          "data": {
            "text/html": [
              "<div class=\"map-html-embed-preview-15130205-80d6-41a4-bbbc-e6bf8bf3431c\"></div>"
            ],
            "text/plain": [
              "<IPython.core.display.HTML object>"
            ]
          },
          "metadata": {
            "tags": []
          }
        }
      ]
    },
    {
      "cell_type": "markdown",
      "metadata": {
        "id": "tV-XZI1DUyq6"
      },
      "source": [
        "#**Create slope raster**\n",
        "Slope is one of the important factors for avalanche occurrences. According to the past studies, most of the avalanches occurred on a slope between 28 to 45 degrees. Thus, while slope less than 25 degrees is not prone to avalanches at the same time too steep slopes also do not cause avalanches since it does not allow snow to accumulate. In view of this the slope map was created and reclassified into 5 classes, with appropriate label."
      ]
    },
    {
      "cell_type": "code",
      "metadata": {
        "id": "bC5Bk_ngTkxV"
      },
      "source": [
        "slope = colormap(remap(slope(dem_clip),\n",
        "                       input_ranges=[0,  12,  # Flat\n",
        "                                     12, 28,  # Low\n",
        "                                     28, 45,  # Highly vulnerable\n",
        "                                     45, 55,  # Steep\n",
        "                                     55, 90], # Very Steep\n",
        "                       output_values=[1, 2, 5, 3, 2],\n",
        "                       astype='u8'),\n",
        "                 colormap=[[1, 141, 212, 0], [2, 255, 225, 204],\n",
        "                           [5, 255, 0, 0]])"
      ],
      "execution_count": null,
      "outputs": []
    },
    {
      "cell_type": "code",
      "metadata": {
        "colab": {
          "referenced_widgets": [
            "71fc725d79b04dc5a20680618d5fdec9"
          ]
        },
        "id": "U1LLw24nTkxV",
        "outputId": "97fc2582-10d0-4892-8e16-8caf0122f9d8"
      },
      "source": [
        "m = gis.map('Lake Tahoe, California')\n",
        "m.add_layer(slope)\n",
        "m.legend = True\n",
        "m"
      ],
      "execution_count": null,
      "outputs": [
        {
          "output_type": "display_data",
          "data": {
            "application/vnd.jupyter.widget-view+json": {
              "model_id": "71fc725d79b04dc5a20680618d5fdec9",
              "version_major": 2,
              "version_minor": 0
            },
            "text/plain": [
              "MapView(layout=Layout(height='400px', width='100%'), legend=True)"
            ]
          },
          "metadata": {
            "tags": []
          }
        },
        {
          "output_type": "display_data",
          "data": {
            "text/html": [
              "<div class=\"map-static-img-preview-fe381a24-0d16-4e9f-bf8b-e35e28ab56d4\"><img src=\"\"></img></div>"
            ],
            "text/plain": [
              "<IPython.core.display.HTML object>"
            ]
          },
          "metadata": {
            "tags": []
          }
        },
        {
          "output_type": "display_data",
          "data": {
            "text/html": [
              "<div class=\"map-html-embed-preview-fe381a24-0d16-4e9f-bf8b-e35e28ab56d4\"></div>"
            ],
            "text/plain": [
              "<IPython.core.display.HTML object>"
            ]
          },
          "metadata": {
            "tags": []
          }
        }
      ]
    },
    {
      "cell_type": "markdown",
      "metadata": {
        "id": "hKRRsMYtU7hg"
      },
      "source": [
        "#**Create aspect raster**\n",
        "The snowpack stability is directly affected by the orientation of slope with respect to the sun. Snowpack on slopes facing the sun stabilizes faster in comparison to the snow on shaded slopes which remains unstable. Accordingly, the Aspect raster was reclassified into 5 classes and different scores were given to each class based on their orientation to the Sun."
      ]
    },
    {
      "cell_type": "code",
      "metadata": {
        "id": "7NaW4zEBTkxW"
      },
      "source": [
        "aspect = colormap(remap(aspect(dem_clip),\n",
        "                     input_ranges=[-1, 0, #Flat\n",
        "                                   0, 22.5,  # North\n",
        "                                   22.5, 67.5,  # Northeast\n",
        "                                   67.5, 112.5,  # East \n",
        "                                   112.5, 157.5, # Southeast \n",
        "                                   157.5, 202.5, # South\n",
        "                                   202.5, 247.5, # Southwest \n",
        "                                   247.5, 292.5, # West \n",
        "                                   292.5, 337.5, # Northwest\n",
        "                                   337.5, 360], # North\n",
        "                        output_values=[1, 5, 5, 1, 2, 1, 1, 1, 4, 5],\n",
        "                        astype='u8'),\n",
        "                  colormap=[[1, 255, 255, 204],[2, 255, 255, 0],\n",
        "                            [4, 255, 178, 102],[5, 255, 0, 0]])"
      ],
      "execution_count": null,
      "outputs": []
    },
    {
      "cell_type": "code",
      "metadata": {
        "colab": {
          "referenced_widgets": [
            "b72fe434ec8f4a2088c93dfef90d4b8e"
          ]
        },
        "id": "OO7_Aq0LTkxW",
        "outputId": "c738bd4a-3cee-40bd-b81f-8479435ce221"
      },
      "source": [
        "m = gis.map('Lake Tahoe, California')\n",
        "m.add_layer(aspect)\n",
        "m.legend = True\n",
        "m"
      ],
      "execution_count": null,
      "outputs": [
        {
          "output_type": "display_data",
          "data": {
            "application/vnd.jupyter.widget-view+json": {
              "model_id": "b72fe434ec8f4a2088c93dfef90d4b8e",
              "version_major": 2,
              "version_minor": 0
            },
            "text/plain": [
              "MapView(layout=Layout(height='400px', width='100%'), legend=True)"
            ]
          },
          "metadata": {
            "tags": []
          }
        },
        {
          "output_type": "display_data",
          "data": {
            "text/html": [
              "<div class=\"map-static-img-preview-617f8ff1-2f2c-438e-b8e9-8734abf85eb2\"><img src=\"\"></img></div>"
            ],
            "text/plain": [
              "<IPython.core.display.HTML object>"
            ]
          },
          "metadata": {
            "tags": []
          }
        },
        {
          "output_type": "display_data",
          "data": {
            "text/html": [
              "<div class=\"map-html-embed-preview-617f8ff1-2f2c-438e-b8e9-8734abf85eb2\"></div>"
            ],
            "text/plain": [
              "<IPython.core.display.HTML object>"
            ]
          },
          "metadata": {
            "tags": []
          }
        }
      ]
    },
    {
      "cell_type": "markdown",
      "metadata": {
        "id": "oMWdL4wIVAtX"
      },
      "source": [
        "#**Create curvature raster**\n",
        "Curvature is also an important parameter for avalanche hazard prediction mapping. Snowpack over convex surfaces are more unstable than that on top of concave surfaces which usually can hold large amount of snow compared to convex surface.\n",
        "\n",
        "Suitably, curvature raster was reclassified into 3 classes and convex slope was assigned the highest score of 5 as it was more vulnerable to avalanche, and 1 was assigned to concave surface as it was less vulnerable."
      ]
    },
    {
      "cell_type": "code",
      "metadata": {
        "id": "fqjY047FTkxW"
      },
      "source": [
        "curvature = curvature(dem_clip, curvature_type='standard', z_factor=1, astype='F32')"
      ],
      "execution_count": null,
      "outputs": []
    },
    {
      "cell_type": "code",
      "metadata": {
        "id": "XXZsBnn-TkxX"
      },
      "source": [
        "curvature_s=colormap(remap(curvature,\n",
        "                           input_ranges=[-60, 0, #concave slope\n",
        "                                         0, 0, #flat slope \n",
        "                                         0.000001, 60], #convex slope\n",
        "                             output_values=[1, 3, 5],\n",
        "                             astype='F32'),\n",
        "                       colormap=[[1, 255, 255, 204],\n",
        "                                 [3, 255, 178, 102],\n",
        "                                 [5, 255, 0, 0]])"
      ],
      "execution_count": null,
      "outputs": []
    },
    {
      "cell_type": "code",
      "metadata": {
        "colab": {
          "referenced_widgets": [
            "c6bf8cd59cc74d278cb61fd7eb1ad8e6"
          ]
        },
        "id": "2yboOFbFTkxX",
        "outputId": "cb79f44e-f0ef-4975-dc32-5fcd8ba85308"
      },
      "source": [
        "m = gis.map('Lake Tahoe, California')\n",
        "m.add_layer(curvature_s)\n",
        "m.legend = True\n",
        "m"
      ],
      "execution_count": null,
      "outputs": [
        {
          "output_type": "display_data",
          "data": {
            "application/vnd.jupyter.widget-view+json": {
              "model_id": "c6bf8cd59cc74d278cb61fd7eb1ad8e6",
              "version_major": 2,
              "version_minor": 0
            },
            "text/plain": [
              "MapView(layout=Layout(height='400px', width='100%'), legend=True)"
            ]
          },
          "metadata": {
            "tags": []
          }
        },
        {
          "output_type": "display_data",
          "data": {
            "text/html": [
              "<div class=\"map-static-img-preview-57905812-269b-4faf-8c5e-b44d374d9ef7\"><img src=\"\"></img></div>"
            ],
            "text/plain": [
              "<IPython.core.display.HTML object>"
            ]
          },
          "metadata": {
            "tags": []
          }
        },
        {
          "output_type": "display_data",
          "data": {
            "text/html": [
              "<div class=\"map-html-embed-preview-57905812-269b-4faf-8c5e-b44d374d9ef7\"></div>"
            ],
            "text/plain": [
              "<IPython.core.display.HTML object>"
            ]
          },
          "metadata": {
            "tags": []
          }
        }
      ]
    },
    {
      "cell_type": "markdown",
      "metadata": {
        "id": "GpORerupVFxm"
      },
      "source": [
        "\n",
        "#**Land Use and Land Cover raster**\n",
        "In the study titled USA NLCD Land Cover ,National Land Cover Database was used from Living Atlas. Land Use and Land Cover(LULC) which represents the condition of the earth's surface is an important contributing factor for avalanches. For example areas with dense vegetation was less vulnerable than the areas with no vegetation and also snow and ice covered area were more prone to snow avalanches than barren land.\n",
        "\n",
        "This datatset has 20 land cover classes which includes vegetation type, development density, agricultural use, barren land, areas with water, snow and ice. The data was classified on the basis of modified Anderson Level II, and after clipping the LULC data with the AOI boundary, the data was resampled in 30m spatial resolution similar to the DEM data so that the overlay analysis can be done."
      ]
    },
    {
      "cell_type": "code",
      "metadata": {
        "id": "xXnB9qXrTkxX"
      },
      "source": [
        "lulc_clip = clip(lulc.layers[0], aoi_geom)"
      ],
      "execution_count": null,
      "outputs": []
    },
    {
      "cell_type": "markdown",
      "metadata": {
        "id": "1fLyRrJQVJWN"
      },
      "source": [
        "\n",
        "The study area has sixteen LULC classes. The raster was reclassified and scores were assigned to the LULC classes, with Snow & Ice class being highly vulnerable was scored as 5. Evergreen and mixed forests were less vulnerable to snow avalanche, so a low score was provided, while barren land, grassland and shrublands being moderately vulnerable, a score of 3 was assigned to them."
      ]
    },
    {
      "cell_type": "code",
      "metadata": {
        "id": "JuMLuaYsTkxX"
      },
      "source": [
        "lulc_c = colormap(remap(lulc_clip,\n",
        "                        input_ranges=[1, 1, #Open Water\n",
        "                                      2, 2, #Perennial Snow/Ice\n",
        "                                      3, 3,  #Developed Open Space\n",
        "                                      4, 4, #Developed Low Intensity\n",
        "                                      5, 5, # Developed Medium Intensity\n",
        "                                      6, 6, #Developed High Intensity\n",
        "                                      7, 7, #Barrenland\n",
        "                                      8, 8, #Deciduous Forest\n",
        "                                      9, 9, #Evergreen Forest\n",
        "                                      10, 10, #Mixed Forest\n",
        "                                      11, 11, #Shrub/Scrub\n",
        "                                      12, 12, #Grassland/ Herbaceous\n",
        "                                      13, 13, #Pasture/ Hay\n",
        "                                      14, 14, #Cultivated Crops\n",
        "                                      15, 15, #Woody Wetlands\n",
        "                                      16, 16], #Emergent Herbaceous Wetlands\n",
        "                        output_values=[1, 5, 1, 1, 1, 1, 3, 2, 1, 2, 3, 3, 3, 2, 2, 2],\n",
        "                        astype='u8'),\n",
        "                  colormap=[[1, 0,100, 0], [2, 154, 205, 50],\n",
        "                            [3, 255, 255, 0], [4, 255, 127, 80],\n",
        "                            [5, 255, 0, 0]])"
      ],
      "execution_count": null,
      "outputs": []
    },
    {
      "cell_type": "code",
      "metadata": {
        "colab": {
          "referenced_widgets": [
            "46a4dd2b9b48461ab933a235820503f2"
          ]
        },
        "id": "NZLlagAxTkxY",
        "outputId": "4d5806b9-9fa1-4d6f-8df3-b4d442ca37ab"
      },
      "source": [
        "m = gis.map('Lake Tahoe, California')\n",
        "m.add_layer(lulc_c)\n",
        "m.legend = True\n",
        "m"
      ],
      "execution_count": null,
      "outputs": [
        {
          "output_type": "display_data",
          "data": {
            "application/vnd.jupyter.widget-view+json": {
              "model_id": "46a4dd2b9b48461ab933a235820503f2",
              "version_major": 2,
              "version_minor": 0
            },
            "text/plain": [
              "MapView(layout=Layout(height='400px', width='100%'), legend=True)"
            ]
          },
          "metadata": {
            "tags": []
          }
        },
        {
          "output_type": "display_data",
          "data": {
            "text/html": [
              "<div class=\"map-static-img-preview-b7cb2ba0-add9-4767-98f3-3b53b54896c6\"><img src=\"\"></img></div>"
            ],
            "text/plain": [
              "<IPython.core.display.HTML object>"
            ]
          },
          "metadata": {
            "tags": []
          }
        },
        {
          "output_type": "display_data",
          "data": {
            "text/html": [
              "<div class=\"map-html-embed-preview-b7cb2ba0-add9-4767-98f3-3b53b54896c6\"></div>"
            ],
            "text/plain": [
              "<IPython.core.display.HTML object>"
            ]
          },
          "metadata": {
            "tags": []
          }
        }
      ]
    },
    {
      "cell_type": "markdown",
      "metadata": {
        "id": "RjD0xeh8VNbD"
      },
      "source": [
        "\n",
        "#**Snow avalanche vulnerability map** \n",
        "The final risk map is created by again weighting and combining (WLC) all the above six parameters based on relative importance, with the total weight summing up to 1 after being added so that the output can be consistent."
      ]
    },
    {
      "cell_type": "code",
      "metadata": {
        "id": "iz20I_MvTkxY"
      },
      "source": [
        "risk_map = (0.4*elevation+0.1*slope+0.3*aspect+0.15*curvature_s+0.05*lulc_c)"
      ],
      "execution_count": null,
      "outputs": []
    },
    {
      "cell_type": "code",
      "metadata": {
        "id": "i9VS5y58TkxZ"
      },
      "source": [
        "avalanche_risk_map = colormap(risk_map,\n",
        "                         colormap=[[1, 0,100, 0], [2, 154, 205, 50],\n",
        "                                   [3, 255, 255, 0,], [4, 255, 127, 80], \n",
        "                                   [5, 255, 0, 0]],\n",
        "                         astype='u8')"
      ],
      "execution_count": null,
      "outputs": []
    },
    {
      "cell_type": "code",
      "metadata": {
        "colab": {
          "referenced_widgets": [
            "663c72067f1f44dbae4e97928c3c604e"
          ]
        },
        "id": "oZei2rwLTkxZ",
        "outputId": "8dcc6a90-937c-48dc-f386-8731a2dfc02e"
      },
      "source": [
        "m = gis.map('Lake Tahoe, California')\n",
        "m.add_layer(avalanche_risk_map)\n",
        "m.legend = True\n",
        "m"
      ],
      "execution_count": null,
      "outputs": [
        {
          "output_type": "display_data",
          "data": {
            "application/vnd.jupyter.widget-view+json": {
              "model_id": "663c72067f1f44dbae4e97928c3c604e",
              "version_major": 2,
              "version_minor": 0
            },
            "text/plain": [
              "MapView(layout=Layout(height='400px', width='100%'), legend=True)"
            ]
          },
          "metadata": {
            "tags": []
          }
        },
        {
          "output_type": "display_data",
          "data": {
            "text/html": [
              "<div class=\"map-static-img-preview-6af54662-7536-448d-9cd2-45dad0a29d8e\"><img src=\"\"></img></div>"
            ],
            "text/plain": [
              "<IPython.core.display.HTML object>"
            ]
          },
          "metadata": {
            "tags": []
          }
        },
        {
          "output_type": "display_data",
          "data": {
            "text/html": [
              "<div class=\"map-html-embed-preview-6af54662-7536-448d-9cd2-45dad0a29d8e\"></div>"
            ],
            "text/plain": [
              "<IPython.core.display.HTML object>"
            ]
          },
          "metadata": {
            "tags": []
          }
        }
      ]
    },
    {
      "cell_type": "markdown",
      "metadata": {
        "id": "bRdvE8leVTf8"
      },
      "source": [
        "The final output potential avalanche hazard map has values from 1 to 5 with vulnerability increasing from 1 to 5. To make the numerical categories more meaningful the classes are labelled with suitable text description (done in ArcGIS Pro using Raster Symbology)."
      ]
    },
    {
      "cell_type": "code",
      "metadata": {
        "colab": {
          "referenced_widgets": [
            "615f6d57d1cf4318bb4c01f285dfdb4f"
          ]
        },
        "id": "i8iGf_e0TkxZ",
        "outputId": "f6ab9a86-951a-4c28-ad6b-48bec0ad1ca7"
      },
      "source": [
        "m = gis.map('Lake Tahoe, California')\n",
        "m.add_layer(avalanche_risk_map)\n",
        "m.legend = True\n",
        "m"
      ],
      "execution_count": null,
      "outputs": [
        {
          "output_type": "display_data",
          "data": {
            "application/vnd.jupyter.widget-view+json": {
              "model_id": "615f6d57d1cf4318bb4c01f285dfdb4f",
              "version_major": 2,
              "version_minor": 0
            },
            "text/plain": [
              "MapView(layout=Layout(height='400px', width='100%'), legend=True)"
            ]
          },
          "metadata": {
            "tags": []
          }
        },
        {
          "output_type": "display_data",
          "data": {
            "text/html": [
              "<div class=\"map-static-img-preview-2075ea8e-7bec-44db-8b1b-a0858a3da4e2\"><img src=\"\"></img></div>"
            ],
            "text/plain": [
              "<IPython.core.display.HTML object>"
            ]
          },
          "metadata": {
            "tags": []
          }
        },
        {
          "output_type": "display_data",
          "data": {
            "text/html": [
              "<div class=\"map-html-embed-preview-2075ea8e-7bec-44db-8b1b-a0858a3da4e2\"></div>"
            ],
            "text/plain": [
              "<IPython.core.display.HTML object>"
            ]
          },
          "metadata": {
            "tags": []
          }
        }
      ]
    },
    {
      "cell_type": "markdown",
      "metadata": {
        "id": "VHxwmj3YVYEE"
      },
      "source": [
        "\n",
        "Red pixels in the map here has the steepest convex slopes and shows area which are extremely vulnerable to avalanches. The Tahoe lake is moderately vulnerable. As discussed above, the areas above 2000m elevation are more vulnerable, dark green and green colour is showing areas less vulnerable to snow avalanche."
      ]
    },
    {
      "cell_type": "markdown",
      "metadata": {
        "id": "9JO8XKnlVYxH"
      },
      "source": [
        "#**Conclusion** \n",
        "Lake Tahoe experiences snow avalanches almost every year which causes deaths. In this sample, raster functions were used to create snow avalanche hazard map. Rasters were created from DEM, slope, aspect and curvature along with LULC map. WLC model is widely acceptable for natural disasters mapping, and is also able to handle and integrate large volume of data hence the model was incorporated with GIS to create the hazard map. The same workflow can be used to create avalanche hazard map for different regions."
      ]
    }
  ]
}